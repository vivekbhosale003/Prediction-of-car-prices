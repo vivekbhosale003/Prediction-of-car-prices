{
 "cells": [
  {
   "cell_type": "markdown",
   "metadata": {},
   "source": [
    "# CAR PRICE PREDICTION"
   ]
  },
  {
   "cell_type": "code",
   "execution_count": 1,
   "metadata": {
    "scrolled": true
   },
   "outputs": [],
   "source": [
    "#importing the libraries\n",
    "import numpy as np\n",
    "import pandas as pd\n",
    "import matplotlib.pyplot as plt\n",
    "import seaborn as sns\n",
    "import math\n",
    "\n",
    "import sklearn\n",
    "from sklearn.model_selection import train_test_split\n",
    "from sklearn.preprocessing import MinMaxScaler\n",
    "from sklearn.linear_model import LinearRegression\n",
    "from sklearn.feature_selection import RFE\n",
    "from statsmodels.stats.outliers_influence import variance_inflation_factor\n",
    "import warnings\n",
    "warnings.filterwarnings('ignore')"
   ]
  },
  {
   "cell_type": "code",
   "execution_count": 2,
   "metadata": {
    "scrolled": true
   },
   "outputs": [
    {
     "data": {
      "text/html": [
       "<div>\n",
       "<style scoped>\n",
       "    .dataframe tbody tr th:only-of-type {\n",
       "        vertical-align: middle;\n",
       "    }\n",
       "\n",
       "    .dataframe tbody tr th {\n",
       "        vertical-align: top;\n",
       "    }\n",
       "\n",
       "    .dataframe thead th {\n",
       "        text-align: right;\n",
       "    }\n",
       "</style>\n",
       "<table border=\"1\" class=\"dataframe\">\n",
       "  <thead>\n",
       "    <tr style=\"text-align: right;\">\n",
       "      <th></th>\n",
       "      <th>car_ID</th>\n",
       "      <th>symboling</th>\n",
       "      <th>CarName</th>\n",
       "      <th>fueltype</th>\n",
       "      <th>aspiration</th>\n",
       "      <th>doornumber</th>\n",
       "      <th>carbody</th>\n",
       "      <th>drivewheel</th>\n",
       "      <th>enginelocation</th>\n",
       "      <th>wheelbase</th>\n",
       "      <th>...</th>\n",
       "      <th>enginesize</th>\n",
       "      <th>fuelsystem</th>\n",
       "      <th>boreratio</th>\n",
       "      <th>stroke</th>\n",
       "      <th>compressionratio</th>\n",
       "      <th>horsepower</th>\n",
       "      <th>peakrpm</th>\n",
       "      <th>citympg</th>\n",
       "      <th>highwaympg</th>\n",
       "      <th>price</th>\n",
       "    </tr>\n",
       "  </thead>\n",
       "  <tbody>\n",
       "    <tr>\n",
       "      <th>0</th>\n",
       "      <td>1</td>\n",
       "      <td>3</td>\n",
       "      <td>alfa-romero giulia</td>\n",
       "      <td>gas</td>\n",
       "      <td>std</td>\n",
       "      <td>two</td>\n",
       "      <td>convertible</td>\n",
       "      <td>rwd</td>\n",
       "      <td>front</td>\n",
       "      <td>88.6</td>\n",
       "      <td>...</td>\n",
       "      <td>130</td>\n",
       "      <td>mpfi</td>\n",
       "      <td>3.47</td>\n",
       "      <td>2.68</td>\n",
       "      <td>9.0</td>\n",
       "      <td>111</td>\n",
       "      <td>5000</td>\n",
       "      <td>21</td>\n",
       "      <td>27</td>\n",
       "      <td>13495.0</td>\n",
       "    </tr>\n",
       "    <tr>\n",
       "      <th>1</th>\n",
       "      <td>2</td>\n",
       "      <td>3</td>\n",
       "      <td>alfa-romero stelvio</td>\n",
       "      <td>gas</td>\n",
       "      <td>std</td>\n",
       "      <td>two</td>\n",
       "      <td>convertible</td>\n",
       "      <td>rwd</td>\n",
       "      <td>front</td>\n",
       "      <td>88.6</td>\n",
       "      <td>...</td>\n",
       "      <td>130</td>\n",
       "      <td>mpfi</td>\n",
       "      <td>3.47</td>\n",
       "      <td>2.68</td>\n",
       "      <td>9.0</td>\n",
       "      <td>111</td>\n",
       "      <td>5000</td>\n",
       "      <td>21</td>\n",
       "      <td>27</td>\n",
       "      <td>16500.0</td>\n",
       "    </tr>\n",
       "    <tr>\n",
       "      <th>2</th>\n",
       "      <td>3</td>\n",
       "      <td>1</td>\n",
       "      <td>alfa-romero Quadrifoglio</td>\n",
       "      <td>gas</td>\n",
       "      <td>std</td>\n",
       "      <td>two</td>\n",
       "      <td>hatchback</td>\n",
       "      <td>rwd</td>\n",
       "      <td>front</td>\n",
       "      <td>94.5</td>\n",
       "      <td>...</td>\n",
       "      <td>152</td>\n",
       "      <td>mpfi</td>\n",
       "      <td>2.68</td>\n",
       "      <td>3.47</td>\n",
       "      <td>9.0</td>\n",
       "      <td>154</td>\n",
       "      <td>5000</td>\n",
       "      <td>19</td>\n",
       "      <td>26</td>\n",
       "      <td>16500.0</td>\n",
       "    </tr>\n",
       "    <tr>\n",
       "      <th>3</th>\n",
       "      <td>4</td>\n",
       "      <td>2</td>\n",
       "      <td>audi 100 ls</td>\n",
       "      <td>gas</td>\n",
       "      <td>std</td>\n",
       "      <td>four</td>\n",
       "      <td>sedan</td>\n",
       "      <td>fwd</td>\n",
       "      <td>front</td>\n",
       "      <td>99.8</td>\n",
       "      <td>...</td>\n",
       "      <td>109</td>\n",
       "      <td>mpfi</td>\n",
       "      <td>3.19</td>\n",
       "      <td>3.40</td>\n",
       "      <td>10.0</td>\n",
       "      <td>102</td>\n",
       "      <td>5500</td>\n",
       "      <td>24</td>\n",
       "      <td>30</td>\n",
       "      <td>13950.0</td>\n",
       "    </tr>\n",
       "    <tr>\n",
       "      <th>4</th>\n",
       "      <td>5</td>\n",
       "      <td>2</td>\n",
       "      <td>audi 100ls</td>\n",
       "      <td>gas</td>\n",
       "      <td>std</td>\n",
       "      <td>four</td>\n",
       "      <td>sedan</td>\n",
       "      <td>4wd</td>\n",
       "      <td>front</td>\n",
       "      <td>99.4</td>\n",
       "      <td>...</td>\n",
       "      <td>136</td>\n",
       "      <td>mpfi</td>\n",
       "      <td>3.19</td>\n",
       "      <td>3.40</td>\n",
       "      <td>8.0</td>\n",
       "      <td>115</td>\n",
       "      <td>5500</td>\n",
       "      <td>18</td>\n",
       "      <td>22</td>\n",
       "      <td>17450.0</td>\n",
       "    </tr>\n",
       "  </tbody>\n",
       "</table>\n",
       "<p>5 rows × 26 columns</p>\n",
       "</div>"
      ],
      "text/plain": [
       "   car_ID  symboling                   CarName fueltype aspiration doornumber  \\\n",
       "0       1          3        alfa-romero giulia      gas        std        two   \n",
       "1       2          3       alfa-romero stelvio      gas        std        two   \n",
       "2       3          1  alfa-romero Quadrifoglio      gas        std        two   \n",
       "3       4          2               audi 100 ls      gas        std       four   \n",
       "4       5          2                audi 100ls      gas        std       four   \n",
       "\n",
       "       carbody drivewheel enginelocation  wheelbase   ...     enginesize  \\\n",
       "0  convertible        rwd          front       88.6   ...            130   \n",
       "1  convertible        rwd          front       88.6   ...            130   \n",
       "2    hatchback        rwd          front       94.5   ...            152   \n",
       "3        sedan        fwd          front       99.8   ...            109   \n",
       "4        sedan        4wd          front       99.4   ...            136   \n",
       "\n",
       "   fuelsystem  boreratio  stroke compressionratio horsepower  peakrpm citympg  \\\n",
       "0        mpfi       3.47    2.68              9.0        111     5000      21   \n",
       "1        mpfi       3.47    2.68              9.0        111     5000      21   \n",
       "2        mpfi       2.68    3.47              9.0        154     5000      19   \n",
       "3        mpfi       3.19    3.40             10.0        102     5500      24   \n",
       "4        mpfi       3.19    3.40              8.0        115     5500      18   \n",
       "\n",
       "   highwaympg    price  \n",
       "0          27  13495.0  \n",
       "1          27  16500.0  \n",
       "2          26  16500.0  \n",
       "3          30  13950.0  \n",
       "4          22  17450.0  \n",
       "\n",
       "[5 rows x 26 columns]"
      ]
     },
     "execution_count": 2,
     "metadata": {},
     "output_type": "execute_result"
    }
   ],
   "source": [
    "#reading the dataset\n",
    "car_price=pd.read_csv('CarPrice_Assignment.csv')\n",
    "car_price.head()"
   ]
  },
  {
   "cell_type": "markdown",
   "metadata": {},
   "source": [
    "## Data understanding"
   ]
  },
  {
   "cell_type": "code",
   "execution_count": 3,
   "metadata": {
    "scrolled": true
   },
   "outputs": [
    {
     "data": {
      "text/plain": [
       "(205, 26)"
      ]
     },
     "execution_count": 3,
     "metadata": {},
     "output_type": "execute_result"
    }
   ],
   "source": [
    "#Analysing the shape of the datafre=ame\n",
    "car_price.shape"
   ]
  },
  {
   "cell_type": "code",
   "execution_count": 4,
   "metadata": {
    "scrolled": true
   },
   "outputs": [
    {
     "name": "stdout",
     "output_type": "stream",
     "text": [
      "<class 'pandas.core.frame.DataFrame'>\n",
      "RangeIndex: 205 entries, 0 to 204\n",
      "Data columns (total 26 columns):\n",
      "car_ID              205 non-null int64\n",
      "symboling           205 non-null int64\n",
      "CarName             205 non-null object\n",
      "fueltype            205 non-null object\n",
      "aspiration          205 non-null object\n",
      "doornumber          205 non-null object\n",
      "carbody             205 non-null object\n",
      "drivewheel          205 non-null object\n",
      "enginelocation      205 non-null object\n",
      "wheelbase           205 non-null float64\n",
      "carlength           205 non-null float64\n",
      "carwidth            205 non-null float64\n",
      "carheight           205 non-null float64\n",
      "curbweight          205 non-null int64\n",
      "enginetype          205 non-null object\n",
      "cylindernumber      205 non-null object\n",
      "enginesize          205 non-null int64\n",
      "fuelsystem          205 non-null object\n",
      "boreratio           205 non-null float64\n",
      "stroke              205 non-null float64\n",
      "compressionratio    205 non-null float64\n",
      "horsepower          205 non-null int64\n",
      "peakrpm             205 non-null int64\n",
      "citympg             205 non-null int64\n",
      "highwaympg          205 non-null int64\n",
      "price               205 non-null float64\n",
      "dtypes: float64(8), int64(8), object(10)\n",
      "memory usage: 41.7+ KB\n"
     ]
    }
   ],
   "source": [
    "car_price.info()"
   ]
  },
  {
   "cell_type": "code",
   "execution_count": 5,
   "metadata": {
    "scrolled": true
   },
   "outputs": [
    {
     "data": {
      "text/plain": [
       "car_ID              0.0\n",
       "symboling           0.0\n",
       "CarName             0.0\n",
       "fueltype            0.0\n",
       "aspiration          0.0\n",
       "doornumber          0.0\n",
       "carbody             0.0\n",
       "drivewheel          0.0\n",
       "enginelocation      0.0\n",
       "wheelbase           0.0\n",
       "carlength           0.0\n",
       "carwidth            0.0\n",
       "carheight           0.0\n",
       "curbweight          0.0\n",
       "enginetype          0.0\n",
       "cylindernumber      0.0\n",
       "enginesize          0.0\n",
       "fuelsystem          0.0\n",
       "boreratio           0.0\n",
       "stroke              0.0\n",
       "compressionratio    0.0\n",
       "horsepower          0.0\n",
       "peakrpm             0.0\n",
       "citympg             0.0\n",
       "highwaympg          0.0\n",
       "price               0.0\n",
       "dtype: float64"
      ]
     },
     "execution_count": 5,
     "metadata": {},
     "output_type": "execute_result"
    }
   ],
   "source": [
    "# determining the percentage of missing values\n",
    "round(100*car_price.isnull().sum()/len(car_price),2)"
   ]
  },
  {
   "cell_type": "markdown",
   "metadata": {},
   "source": [
    "There are no missing values in any of the columns"
   ]
  },
  {
   "cell_type": "code",
   "execution_count": 6,
   "metadata": {},
   "outputs": [
    {
     "data": {
      "text/plain": [
       "0"
      ]
     },
     "execution_count": 6,
     "metadata": {},
     "output_type": "execute_result"
    }
   ],
   "source": [
    "# Checking for duplicate rows\n",
    "car_price.duplicated(subset=None, keep='first').sum()"
   ]
  },
  {
   "cell_type": "markdown",
   "metadata": {},
   "source": [
    "There are no duplicated rows in the dataset"
   ]
  },
  {
   "cell_type": "markdown",
   "metadata": {},
   "source": [
    "## Data Preparation"
   ]
  },
  {
   "cell_type": "code",
   "execution_count": 7,
   "metadata": {
    "scrolled": true
   },
   "outputs": [],
   "source": [
    "#Obtaining the brand name from car name\n",
    "car_price['Brand_Name']=car_price['CarName'].apply(lambda x: x.split(' ')[0])\n",
    "#dropping the carname variable\n",
    "car_price.drop('CarName',axis=1,inplace=True)"
   ]
  },
  {
   "cell_type": "code",
   "execution_count": 8,
   "metadata": {},
   "outputs": [],
   "source": [
    "#Function to obtain unique values from each categorical variable\n",
    "def func_uniq(*args):\n",
    "    for col in args:\n",
    "        print(col + \":\" , end =' ')\n",
    "        print(car_price[col].unique())\n",
    "    "
   ]
  },
  {
   "cell_type": "code",
   "execution_count": 9,
   "metadata": {},
   "outputs": [
    {
     "name": "stdout",
     "output_type": "stream",
     "text": [
      "fueltype: ['gas' 'diesel']\n",
      "aspiration: ['std' 'turbo']\n",
      "doornumber: ['two' 'four']\n",
      "carbody: ['convertible' 'hatchback' 'sedan' 'wagon' 'hardtop']\n",
      "drivewheel: ['rwd' 'fwd' '4wd']\n",
      "enginelocation: ['front' 'rear']\n",
      "enginetype: ['dohc' 'ohcv' 'ohc' 'l' 'rotor' 'ohcf' 'dohcv']\n",
      "cylindernumber: ['four' 'six' 'five' 'three' 'twelve' 'two' 'eight']\n",
      "fuelsystem: ['mpfi' '2bbl' 'mfi' '1bbl' 'spfi' '4bbl' 'idi' 'spdi']\n",
      "Brand_Name: ['alfa-romero' 'audi' 'bmw' 'chevrolet' 'dodge' 'honda' 'isuzu' 'jaguar'\n",
      " 'maxda' 'mazda' 'buick' 'mercury' 'mitsubishi' 'Nissan' 'nissan'\n",
      " 'peugeot' 'plymouth' 'porsche' 'porcshce' 'renault' 'saab' 'subaru'\n",
      " 'toyota' 'toyouta' 'vokswagen' 'volkswagen' 'vw' 'volvo']\n"
     ]
    }
   ],
   "source": [
    "#Obtaining the list of categorical variables\n",
    "category_list=car_price.select_dtypes('object').columns.tolist()\n",
    "\n",
    "# passing the categorical varibles to the user defined function to identify the unique values in each of the variables\n",
    "func_uniq(*category_list)"
   ]
  },
  {
   "cell_type": "markdown",
   "metadata": {},
   "source": [
    "***It is observed from the above result that there is inconsistency in spellings of brand name of cars. These are respelt to avoid errors in analysis\n",
    "Also, certain variables like door number and cylinder number that contain numeric information are stored as strings. These are converted into numbers***"
   ]
  },
  {
   "cell_type": "code",
   "execution_count": 10,
   "metadata": {
    "scrolled": true
   },
   "outputs": [],
   "source": [
    "# Correcting the spellings of the brand name of cars (ref : Google)\n",
    "car_price.loc[car_price['Brand_Name']=='maxda',['Brand_Name']]= 'mazda'\n",
    "car_price.loc[car_price['Brand_Name']=='Nissan',['Brand_Name']]='nissan'\n",
    "car_price.loc[car_price['Brand_Name']=='porcshce',['Brand_Name']]='porsche'\n",
    "car_price.loc[car_price['Brand_Name']=='toyouta',['Brand_Name']]='toyota'\n",
    "car_price.loc[(car_price['Brand_Name']=='vokswagen') | (car_price['Brand_Name']=='vw'),['Brand_Name']]='volkswagen'\n"
   ]
  },
  {
   "cell_type": "code",
   "execution_count": 11,
   "metadata": {
    "scrolled": true
   },
   "outputs": [],
   "source": [
    "# Converting the variables doornumber and cylindernumber to numeric\n",
    "car_price['doornumber']=car_price[['doornumber']].apply(lambda x: x.map({'two': 2, 'four':4}))\n",
    "car_price['cylindernumber']=car_price[['cylindernumber']].apply(lambda x: x.map({'two': 2,'three':3, 'four':4, 'five': 5, 'six': 6,\n",
    "                                'eight':8,'twelve':12}))"
   ]
  },
  {
   "cell_type": "code",
   "execution_count": 12,
   "metadata": {
    "scrolled": true
   },
   "outputs": [
    {
     "data": {
      "text/html": [
       "<div>\n",
       "<style scoped>\n",
       "    .dataframe tbody tr th:only-of-type {\n",
       "        vertical-align: middle;\n",
       "    }\n",
       "\n",
       "    .dataframe tbody tr th {\n",
       "        vertical-align: top;\n",
       "    }\n",
       "\n",
       "    .dataframe thead th {\n",
       "        text-align: right;\n",
       "    }\n",
       "</style>\n",
       "<table border=\"1\" class=\"dataframe\">\n",
       "  <thead>\n",
       "    <tr style=\"text-align: right;\">\n",
       "      <th></th>\n",
       "      <th>car_ID</th>\n",
       "      <th>symboling</th>\n",
       "      <th>fueltype</th>\n",
       "      <th>aspiration</th>\n",
       "      <th>doornumber</th>\n",
       "      <th>carbody</th>\n",
       "      <th>drivewheel</th>\n",
       "      <th>enginelocation</th>\n",
       "      <th>wheelbase</th>\n",
       "      <th>carlength</th>\n",
       "      <th>...</th>\n",
       "      <th>fuelsystem</th>\n",
       "      <th>boreratio</th>\n",
       "      <th>stroke</th>\n",
       "      <th>compressionratio</th>\n",
       "      <th>horsepower</th>\n",
       "      <th>peakrpm</th>\n",
       "      <th>citympg</th>\n",
       "      <th>highwaympg</th>\n",
       "      <th>price</th>\n",
       "      <th>Brand_Name</th>\n",
       "    </tr>\n",
       "  </thead>\n",
       "  <tbody>\n",
       "    <tr>\n",
       "      <th>0</th>\n",
       "      <td>1</td>\n",
       "      <td>3</td>\n",
       "      <td>gas</td>\n",
       "      <td>std</td>\n",
       "      <td>2</td>\n",
       "      <td>convertible</td>\n",
       "      <td>rwd</td>\n",
       "      <td>front</td>\n",
       "      <td>88.6</td>\n",
       "      <td>168.8</td>\n",
       "      <td>...</td>\n",
       "      <td>mpfi</td>\n",
       "      <td>3.47</td>\n",
       "      <td>2.68</td>\n",
       "      <td>9.0</td>\n",
       "      <td>111</td>\n",
       "      <td>5000</td>\n",
       "      <td>21</td>\n",
       "      <td>27</td>\n",
       "      <td>13495.0</td>\n",
       "      <td>alfa-romero</td>\n",
       "    </tr>\n",
       "    <tr>\n",
       "      <th>1</th>\n",
       "      <td>2</td>\n",
       "      <td>3</td>\n",
       "      <td>gas</td>\n",
       "      <td>std</td>\n",
       "      <td>2</td>\n",
       "      <td>convertible</td>\n",
       "      <td>rwd</td>\n",
       "      <td>front</td>\n",
       "      <td>88.6</td>\n",
       "      <td>168.8</td>\n",
       "      <td>...</td>\n",
       "      <td>mpfi</td>\n",
       "      <td>3.47</td>\n",
       "      <td>2.68</td>\n",
       "      <td>9.0</td>\n",
       "      <td>111</td>\n",
       "      <td>5000</td>\n",
       "      <td>21</td>\n",
       "      <td>27</td>\n",
       "      <td>16500.0</td>\n",
       "      <td>alfa-romero</td>\n",
       "    </tr>\n",
       "    <tr>\n",
       "      <th>2</th>\n",
       "      <td>3</td>\n",
       "      <td>1</td>\n",
       "      <td>gas</td>\n",
       "      <td>std</td>\n",
       "      <td>2</td>\n",
       "      <td>hatchback</td>\n",
       "      <td>rwd</td>\n",
       "      <td>front</td>\n",
       "      <td>94.5</td>\n",
       "      <td>171.2</td>\n",
       "      <td>...</td>\n",
       "      <td>mpfi</td>\n",
       "      <td>2.68</td>\n",
       "      <td>3.47</td>\n",
       "      <td>9.0</td>\n",
       "      <td>154</td>\n",
       "      <td>5000</td>\n",
       "      <td>19</td>\n",
       "      <td>26</td>\n",
       "      <td>16500.0</td>\n",
       "      <td>alfa-romero</td>\n",
       "    </tr>\n",
       "    <tr>\n",
       "      <th>3</th>\n",
       "      <td>4</td>\n",
       "      <td>2</td>\n",
       "      <td>gas</td>\n",
       "      <td>std</td>\n",
       "      <td>4</td>\n",
       "      <td>sedan</td>\n",
       "      <td>fwd</td>\n",
       "      <td>front</td>\n",
       "      <td>99.8</td>\n",
       "      <td>176.6</td>\n",
       "      <td>...</td>\n",
       "      <td>mpfi</td>\n",
       "      <td>3.19</td>\n",
       "      <td>3.40</td>\n",
       "      <td>10.0</td>\n",
       "      <td>102</td>\n",
       "      <td>5500</td>\n",
       "      <td>24</td>\n",
       "      <td>30</td>\n",
       "      <td>13950.0</td>\n",
       "      <td>audi</td>\n",
       "    </tr>\n",
       "    <tr>\n",
       "      <th>4</th>\n",
       "      <td>5</td>\n",
       "      <td>2</td>\n",
       "      <td>gas</td>\n",
       "      <td>std</td>\n",
       "      <td>4</td>\n",
       "      <td>sedan</td>\n",
       "      <td>4wd</td>\n",
       "      <td>front</td>\n",
       "      <td>99.4</td>\n",
       "      <td>176.6</td>\n",
       "      <td>...</td>\n",
       "      <td>mpfi</td>\n",
       "      <td>3.19</td>\n",
       "      <td>3.40</td>\n",
       "      <td>8.0</td>\n",
       "      <td>115</td>\n",
       "      <td>5500</td>\n",
       "      <td>18</td>\n",
       "      <td>22</td>\n",
       "      <td>17450.0</td>\n",
       "      <td>audi</td>\n",
       "    </tr>\n",
       "  </tbody>\n",
       "</table>\n",
       "<p>5 rows × 26 columns</p>\n",
       "</div>"
      ],
      "text/plain": [
       "   car_ID  symboling fueltype aspiration  doornumber      carbody drivewheel  \\\n",
       "0       1          3      gas        std           2  convertible        rwd   \n",
       "1       2          3      gas        std           2  convertible        rwd   \n",
       "2       3          1      gas        std           2    hatchback        rwd   \n",
       "3       4          2      gas        std           4        sedan        fwd   \n",
       "4       5          2      gas        std           4        sedan        4wd   \n",
       "\n",
       "  enginelocation  wheelbase  carlength     ...       fuelsystem  boreratio  \\\n",
       "0          front       88.6      168.8     ...             mpfi       3.47   \n",
       "1          front       88.6      168.8     ...             mpfi       3.47   \n",
       "2          front       94.5      171.2     ...             mpfi       2.68   \n",
       "3          front       99.8      176.6     ...             mpfi       3.19   \n",
       "4          front       99.4      176.6     ...             mpfi       3.19   \n",
       "\n",
       "   stroke compressionratio  horsepower  peakrpm citympg  highwaympg    price  \\\n",
       "0    2.68              9.0         111     5000      21          27  13495.0   \n",
       "1    2.68              9.0         111     5000      21          27  16500.0   \n",
       "2    3.47              9.0         154     5000      19          26  16500.0   \n",
       "3    3.40             10.0         102     5500      24          30  13950.0   \n",
       "4    3.40              8.0         115     5500      18          22  17450.0   \n",
       "\n",
       "    Brand_Name  \n",
       "0  alfa-romero  \n",
       "1  alfa-romero  \n",
       "2  alfa-romero  \n",
       "3         audi  \n",
       "4         audi  \n",
       "\n",
       "[5 rows x 26 columns]"
      ]
     },
     "execution_count": 12,
     "metadata": {},
     "output_type": "execute_result"
    }
   ],
   "source": [
    "car_price.head()"
   ]
  },
  {
   "cell_type": "markdown",
   "metadata": {},
   "source": [
    "## Exploratory Data Analysis"
   ]
  },
  {
   "cell_type": "markdown",
   "metadata": {},
   "source": [
    "###  Univariate Analysis"
   ]
  },
  {
   "cell_type": "code",
   "execution_count": 13,
   "metadata": {},
   "outputs": [],
   "source": [
    "# Function to plot barplots for the given list of variabes\n",
    "def func_bar(*args):                        \n",
    "   \n",
    "    m=math.ceil(len(args)/2)  # getting the length of arguments to determine the size of subplots                   \n",
    "    \n",
    "    fig,axes = plt.subplots(m,2,squeeze=False, figsize = (16, 6*m))\n",
    "    ax_li = axes.flatten()       # flattening the numpy array returned by subplots\n",
    "    i=0\n",
    "    for col in args:\n",
    "        sns.countplot(x=col, data=car_price,ax=ax_li[i], order = car_price[col].value_counts().index)  # countplot sorted by values\n",
    "        ax_li[i].set_title(col)    # title\n",
    "        ax_li[i].xaxis.set_tick_params(rotation=90)  # rotating x- axis\n",
    "        plt.tight_layout()\n",
    "        i=i+1\n"
   ]
  },
  {
   "cell_type": "code",
   "execution_count": 14,
   "metadata": {
    "scrolled": true
   },
   "outputs": [],
   "source": [
    "# Function to plot boxplot for the given list of variabes\n",
    "def func_bxplt(*args,data_df):                        \n",
    "   \n",
    "    m=math.ceil(len(args)/2)  # getting the length f arguments to determine the shape of subplots                   \n",
    "    \n",
    "    fig,axes = plt.subplots(m,2,squeeze=False, figsize = (16, 8*m))\n",
    "    ax_li = axes.flatten()       # flattening the numpy array returned by subplots\n",
    "    i=0\n",
    "    for col in args:\n",
    "        sns.boxplot(y=car_price[col],ax=ax_li[i])  # boxplot\n",
    "        i=i+1\n",
    "    "
   ]
  },
  {
   "cell_type": "code",
   "execution_count": 15,
   "metadata": {},
   "outputs": [
    {
     "data": {
      "image/png": "[encoded data removed]",
      "text/plain": [
       "<Figure size 1152x1728 with 8 Axes>"
      ]
     },
     "metadata": {
      "needs_background": "light"
     },
     "output_type": "display_data"
    }
   ],
   "source": [
    "#Plotting barchart for Categorical variables\n",
    "cat=car_price.select_dtypes('object').columns.tolist()  # Selecting all the categorica columns\n",
    "func_bar(*cat)"
   ]
  },
  {
   "cell_type": "markdown",
   "metadata": {},
   "source": [
    "***From the above graphs, the following conclusions can be drawn assuming that the information is obtained from random sampling:***\n",
    "\n",
    "    1.Cars running on gas are widely preferred than that of diesel\n",
    "    2.Cars with std aspiration are more than those with turbo aspiration\n",
    "    3.Sedan is the most preferred body type followed by hatchback \n",
    "    4.fwd drivewheel is the most preferred and 4wd is the least preferred\n",
    "    5.Most of the cars have engines located in the front\n",
    "    6.ohc is the widely preferred engine type and dohcv is the least preferred type\n",
    "    7.mpfi is the most preferred fuel system followed by 2bbl while mfi and spfi are the least preferred types\n",
    "    8.Toyota is the widely used brand while Mercury is the least used\n",
    "    "
   ]
  },
  {
   "cell_type": "code",
   "execution_count": 16,
   "metadata": {},
   "outputs": [
    {
     "data": {
      "image/png": "[encoded data removed]",
      "text/plain": [
       "<Figure size 1152x864 with 4 Axes>"
      ]
     },
     "metadata": {
      "needs_background": "light"
     },
     "output_type": "display_data"
    }
   ],
   "source": [
    "#Plotting Barchart for a few numeric variables( variables having a few unique values)\n",
    "num=['symboling', 'doornumber', 'cylindernumber']\n",
    "func_bar(*num)"
   ]
  },
  {
   "cell_type": "code",
   "execution_count": 17,
   "metadata": {
    "scrolled": true
   },
   "outputs": [],
   "source": [
    "num_list=[x for x in car_price.select_dtypes(include=np.number).columns if x not in num] # Selecing numeric variables that have many unique values"
   ]
  },
  {
   "cell_type": "code",
   "execution_count": 18,
   "metadata": {},
   "outputs": [
    {
     "data": {
      "text/plain": [
       "Index(['car_ID', 'symboling', 'doornumber', 'wheelbase', 'carlength',\n",
       "       'carwidth', 'carheight', 'curbweight', 'cylindernumber', 'enginesize',\n",
       "       'boreratio', 'stroke', 'compressionratio', 'horsepower', 'peakrpm',\n",
       "       'citympg', 'highwaympg', 'price'],\n",
       "      dtype='object')"
      ]
     },
     "execution_count": 18,
     "metadata": {},
     "output_type": "execute_result"
    }
   ],
   "source": [
    "num_list1=car_price.select_dtypes(include=np.number).columns\n",
    "num_list1"
   ]
  },
  {
   "cell_type": "code",
   "execution_count": 19,
   "metadata": {
    "scrolled": false
   },
   "outputs": [
    {
     "data": {
      "image/png": "[encoded data removed]",
      "text/plain": [
       "<Figure size 1152x4032 with 14 Axes>"
      ]
     },
     "metadata": {
      "needs_background": "light"
     },
     "output_type": "display_data"
    }
   ],
   "source": [
    "func_bxplt(*num_list[1:],data_df=car_price) # Calling the user definedbox plot function to plot "
   ]
  },
  {
   "cell_type": "markdown",
   "metadata": {},
   "source": [
    "From the above plots, it is clear that there a outliers present in a few independent variables.However, on close inspection, it is evident that these outliers correspond to luxurious or high-end car models and hence they need not be removed. Also, since the dataset is small, removing all the outliers will result in a significant loss of data. Hence they are handled during Feature Scaling before model building."
   ]
  },
  {
   "cell_type": "markdown",
   "metadata": {},
   "source": [
    "# Data Preparation"
   ]
  },
  {
   "cell_type": "code",
   "execution_count": 20,
   "metadata": {
    "scrolled": true
   },
   "outputs": [],
   "source": [
    "# Converting categorical variables to numeric variablesby direct binary mapping\n",
    "car_price[['fueltype']]=car_price[['fueltype']].apply(lambda x: x.map({'gas': 1, 'diesel' : 0}))\n",
    "car_price[['aspiration']]=car_price[['aspiration']].apply(lambda x: x.map({'std': 1, 'turbo' : 0}))\n",
    "car_price[['enginelocation']]=car_price[['enginelocation']].apply(lambda x: x.map({'front': 1, 'rear' : 0}))"
   ]
  },
  {
   "cell_type": "code",
   "execution_count": 21,
   "metadata": {
    "scrolled": true
   },
   "outputs": [],
   "source": [
    "# Creating one hot encoded dummy variables\n",
    "brand=pd.get_dummies(car_price['Brand_Name'])\n",
    "body = pd.get_dummies(car_price['carbody'])\n",
    "engine = pd.get_dummies(car_price['enginetype'])\n",
    "fuel_sys = pd.get_dummies(car_price['fuelsystem'])\n",
    "drive_wheel=pd.get_dummies(car_price['drivewheel'])\n",
    "\n",
    "# Using the results of univariate analysis to drop the type that contribute the least to each category\n",
    "brand = brand.drop(['mercury'], 1)\n",
    "body = body.drop(['convertible'], 1)\n",
    "fuel_sys = fuel_sys.drop(['mfi'], 1)\n",
    "engine = engine.drop(['dohcv'], 1)\n",
    "drive_wheel = drive_wheel.drop(['4wd'], 1)"
   ]
  },
  {
   "cell_type": "code",
   "execution_count": 22,
   "metadata": {},
   "outputs": [],
   "source": [
    "# Dropping original categorical columns\n",
    "car_price.drop(['Brand_Name','carbody','enginetype','fuelsystem','drivewheel'],axis=1,inplace=True)"
   ]
  },
  {
   "cell_type": "code",
   "execution_count": 23,
   "metadata": {},
   "outputs": [],
   "source": [
    "# Adding the results to the original dataframe\n",
    "car_price = pd.concat([car_price,brand,body,engine,fuel_sys,drive_wheel], axis = 1)"
   ]
  },
  {
   "cell_type": "code",
   "execution_count": 24,
   "metadata": {},
   "outputs": [
    {
     "data": {
      "text/html": [
       "<div>\n",
       "<style scoped>\n",
       "    .dataframe tbody tr th:only-of-type {\n",
       "        vertical-align: middle;\n",
       "    }\n",
       "\n",
       "    .dataframe tbody tr th {\n",
       "        vertical-align: top;\n",
       "    }\n",
       "\n",
       "    .dataframe thead th {\n",
       "        text-align: right;\n",
       "    }\n",
       "</style>\n",
       "<table border=\"1\" class=\"dataframe\">\n",
       "  <thead>\n",
       "    <tr style=\"text-align: right;\">\n",
       "      <th></th>\n",
       "      <th>car_ID</th>\n",
       "      <th>symboling</th>\n",
       "      <th>fueltype</th>\n",
       "      <th>aspiration</th>\n",
       "      <th>doornumber</th>\n",
       "      <th>enginelocation</th>\n",
       "      <th>wheelbase</th>\n",
       "      <th>carlength</th>\n",
       "      <th>carwidth</th>\n",
       "      <th>carheight</th>\n",
       "      <th>...</th>\n",
       "      <th>rotor</th>\n",
       "      <th>1bbl</th>\n",
       "      <th>2bbl</th>\n",
       "      <th>4bbl</th>\n",
       "      <th>idi</th>\n",
       "      <th>mpfi</th>\n",
       "      <th>spdi</th>\n",
       "      <th>spfi</th>\n",
       "      <th>fwd</th>\n",
       "      <th>rwd</th>\n",
       "    </tr>\n",
       "  </thead>\n",
       "  <tbody>\n",
       "    <tr>\n",
       "      <th>0</th>\n",
       "      <td>1</td>\n",
       "      <td>3</td>\n",
       "      <td>1</td>\n",
       "      <td>1</td>\n",
       "      <td>2</td>\n",
       "      <td>1</td>\n",
       "      <td>88.6</td>\n",
       "      <td>168.8</td>\n",
       "      <td>64.1</td>\n",
       "      <td>48.8</td>\n",
       "      <td>...</td>\n",
       "      <td>0</td>\n",
       "      <td>0</td>\n",
       "      <td>0</td>\n",
       "      <td>0</td>\n",
       "      <td>0</td>\n",
       "      <td>1</td>\n",
       "      <td>0</td>\n",
       "      <td>0</td>\n",
       "      <td>0</td>\n",
       "      <td>1</td>\n",
       "    </tr>\n",
       "    <tr>\n",
       "      <th>1</th>\n",
       "      <td>2</td>\n",
       "      <td>3</td>\n",
       "      <td>1</td>\n",
       "      <td>1</td>\n",
       "      <td>2</td>\n",
       "      <td>1</td>\n",
       "      <td>88.6</td>\n",
       "      <td>168.8</td>\n",
       "      <td>64.1</td>\n",
       "      <td>48.8</td>\n",
       "      <td>...</td>\n",
       "      <td>0</td>\n",
       "      <td>0</td>\n",
       "      <td>0</td>\n",
       "      <td>0</td>\n",
       "      <td>0</td>\n",
       "      <td>1</td>\n",
       "      <td>0</td>\n",
       "      <td>0</td>\n",
       "      <td>0</td>\n",
       "      <td>1</td>\n",
       "    </tr>\n",
       "    <tr>\n",
       "      <th>2</th>\n",
       "      <td>3</td>\n",
       "      <td>1</td>\n",
       "      <td>1</td>\n",
       "      <td>1</td>\n",
       "      <td>2</td>\n",
       "      <td>1</td>\n",
       "      <td>94.5</td>\n",
       "      <td>171.2</td>\n",
       "      <td>65.5</td>\n",
       "      <td>52.4</td>\n",
       "      <td>...</td>\n",
       "      <td>0</td>\n",
       "      <td>0</td>\n",
       "      <td>0</td>\n",
       "      <td>0</td>\n",
       "      <td>0</td>\n",
       "      <td>1</td>\n",
       "      <td>0</td>\n",
       "      <td>0</td>\n",
       "      <td>0</td>\n",
       "      <td>1</td>\n",
       "    </tr>\n",
       "    <tr>\n",
       "      <th>3</th>\n",
       "      <td>4</td>\n",
       "      <td>2</td>\n",
       "      <td>1</td>\n",
       "      <td>1</td>\n",
       "      <td>4</td>\n",
       "      <td>1</td>\n",
       "      <td>99.8</td>\n",
       "      <td>176.6</td>\n",
       "      <td>66.2</td>\n",
       "      <td>54.3</td>\n",
       "      <td>...</td>\n",
       "      <td>0</td>\n",
       "      <td>0</td>\n",
       "      <td>0</td>\n",
       "      <td>0</td>\n",
       "      <td>0</td>\n",
       "      <td>1</td>\n",
       "      <td>0</td>\n",
       "      <td>0</td>\n",
       "      <td>1</td>\n",
       "      <td>0</td>\n",
       "    </tr>\n",
       "    <tr>\n",
       "      <th>4</th>\n",
       "      <td>5</td>\n",
       "      <td>2</td>\n",
       "      <td>1</td>\n",
       "      <td>1</td>\n",
       "      <td>4</td>\n",
       "      <td>1</td>\n",
       "      <td>99.4</td>\n",
       "      <td>176.6</td>\n",
       "      <td>66.4</td>\n",
       "      <td>54.3</td>\n",
       "      <td>...</td>\n",
       "      <td>0</td>\n",
       "      <td>0</td>\n",
       "      <td>0</td>\n",
       "      <td>0</td>\n",
       "      <td>0</td>\n",
       "      <td>1</td>\n",
       "      <td>0</td>\n",
       "      <td>0</td>\n",
       "      <td>0</td>\n",
       "      <td>0</td>\n",
       "    </tr>\n",
       "  </tbody>\n",
       "</table>\n",
       "<p>5 rows × 61 columns</p>\n",
       "</div>"
      ],
      "text/plain": [
       "   car_ID  symboling  fueltype  aspiration  doornumber  enginelocation  \\\n",
       "0       1          3         1           1           2               1   \n",
       "1       2          3         1           1           2               1   \n",
       "2       3          1         1           1           2               1   \n",
       "3       4          2         1           1           4               1   \n",
       "4       5          2         1           1           4               1   \n",
       "\n",
       "   wheelbase  carlength  carwidth  carheight ...   rotor  1bbl  2bbl  4bbl  \\\n",
       "0       88.6      168.8      64.1       48.8 ...       0     0     0     0   \n",
       "1       88.6      168.8      64.1       48.8 ...       0     0     0     0   \n",
       "2       94.5      171.2      65.5       52.4 ...       0     0     0     0   \n",
       "3       99.8      176.6      66.2       54.3 ...       0     0     0     0   \n",
       "4       99.4      176.6      66.4       54.3 ...       0     0     0     0   \n",
       "\n",
       "   idi  mpfi  spdi  spfi  fwd  rwd  \n",
       "0    0     1     0     0    0    1  \n",
       "1    0     1     0     0    0    1  \n",
       "2    0     1     0     0    0    1  \n",
       "3    0     1     0     0    1    0  \n",
       "4    0     1     0     0    0    0  \n",
       "\n",
       "[5 rows x 61 columns]"
      ]
     },
     "execution_count": 24,
     "metadata": {},
     "output_type": "execute_result"
    }
   ],
   "source": [
    "car_price.head()"
   ]
  },
  {
   "cell_type": "code",
   "execution_count": 25,
   "metadata": {},
   "outputs": [
    {
     "data": {
      "text/plain": [
       "<matplotlib.axes._subplots.AxesSubplot at 0xcbe3e48>"
      ]
     },
     "execution_count": 25,
     "metadata": {},
     "output_type": "execute_result"
    },
    {
     "data": {
      "image/png": "[encoded data removed]",
      "text/plain": [
       "<Figure size 1152x1152 with 2 Axes>"
      ]
     },
     "metadata": {
      "needs_background": "light"
     },
     "output_type": "display_data"
    }
   ],
   "source": [
    "# Finding the correlation between numerical variables\n",
    "f=plt.subplots(figsize=(16,16))\n",
    "sns.heatmap(car_price[num_list1[1:]].corr(),annot=True,cmap=\"YlGnBu\")"
   ]
  },
  {
   "cell_type": "code",
   "execution_count": 26,
   "metadata": {},
   "outputs": [
    {
     "data": {
      "text/plain": [
       "<matplotlib.axes._subplots.AxesSubplot at 0xd5e82b0>"
      ]
     },
     "execution_count": 26,
     "metadata": {},
     "output_type": "execute_result"
    },
    {
     "data": {
      "image/png": "[encoded data removed]",
      "text/plain": [
       "<Figure size 1152x1152 with 2 Axes>"
      ]
     },
     "metadata": {
      "needs_background": "light"
     },
     "output_type": "display_data"
    }
   ],
   "source": [
    "# Determining the correlation between categorical variables\n",
    "f=plt.subplots(figsize=(16,16))\n",
    "nn=[col for col in car_price.columns if col not in num_list]\n",
    "sns.heatmap(car_price[nn].corr(),cmap=\"YlGnBu\")\n"
   ]
  },
  {
   "cell_type": "code",
   "execution_count": 27,
   "metadata": {},
   "outputs": [],
   "source": [
    "# Dropping one of the pair of highly correlated independent variables - variables having a correlation greater than 80%\n",
    "car_price.drop(['wheelbase','carlength','carwidth','citympg','cylindernumber','idi','peugeot','1bbl','saab','dodge'],axis=1,inplace=True)"
   ]
  },
  {
   "cell_type": "markdown",
   "metadata": {},
   "source": [
    "## Building a Linear Regression Model"
   ]
  },
  {
   "cell_type": "markdown",
   "metadata": {},
   "source": [
    "### Train - Test Split"
   ]
  },
  {
   "cell_type": "code",
   "execution_count": 28,
   "metadata": {
    "scrolled": true
   },
   "outputs": [],
   "source": [
    "# Splitting the data into train(70%) and test(30%) set\n",
    "np.random.seed(0)\n",
    "df_train,df_test=train_test_split(car_price,train_size=0.7, test_size=0.3, random_state=100)"
   ]
  },
  {
   "cell_type": "code",
   "execution_count": 29,
   "metadata": {
    "scrolled": true
   },
   "outputs": [],
   "source": [
    "#scaling the variables\n",
    "scaler=MinMaxScaler()\n",
    "\n",
    "# Applying scaleer to numerical columns that are not derived from categorical variables\n",
    "num_vars=['symboling', 'doornumber', 'carheight', 'curbweight','enginesize', 'boreratio','stroke', 'compressionratio', 'horsepower', \n",
    "           'peakrpm', 'highwaympg', 'price']\n",
    "df_train[num_vars]=scaler.fit_transform(df_train[num_vars])\n"
   ]
  },
  {
   "cell_type": "code",
   "execution_count": 30,
   "metadata": {},
   "outputs": [
    {
     "data": {
      "text/html": [
       "<div>\n",
       "<style scoped>\n",
       "    .dataframe tbody tr th:only-of-type {\n",
       "        vertical-align: middle;\n",
       "    }\n",
       "\n",
       "    .dataframe tbody tr th {\n",
       "        vertical-align: top;\n",
       "    }\n",
       "\n",
       "    .dataframe thead th {\n",
       "        text-align: right;\n",
       "    }\n",
       "</style>\n",
       "<table border=\"1\" class=\"dataframe\">\n",
       "  <thead>\n",
       "    <tr style=\"text-align: right;\">\n",
       "      <th></th>\n",
       "      <th>car_ID</th>\n",
       "      <th>symboling</th>\n",
       "      <th>fueltype</th>\n",
       "      <th>aspiration</th>\n",
       "      <th>doornumber</th>\n",
       "      <th>enginelocation</th>\n",
       "      <th>carheight</th>\n",
       "      <th>curbweight</th>\n",
       "      <th>enginesize</th>\n",
       "      <th>boreratio</th>\n",
       "      <th>...</th>\n",
       "      <th>ohcf</th>\n",
       "      <th>ohcv</th>\n",
       "      <th>rotor</th>\n",
       "      <th>2bbl</th>\n",
       "      <th>4bbl</th>\n",
       "      <th>mpfi</th>\n",
       "      <th>spdi</th>\n",
       "      <th>spfi</th>\n",
       "      <th>fwd</th>\n",
       "      <th>rwd</th>\n",
       "    </tr>\n",
       "  </thead>\n",
       "  <tbody>\n",
       "    <tr>\n",
       "      <th>122</th>\n",
       "      <td>123</td>\n",
       "      <td>0.6</td>\n",
       "      <td>1</td>\n",
       "      <td>1</td>\n",
       "      <td>1.0</td>\n",
       "      <td>1</td>\n",
       "      <td>0.265487</td>\n",
       "      <td>0.272692</td>\n",
       "      <td>0.139623</td>\n",
       "      <td>0.230159</td>\n",
       "      <td>...</td>\n",
       "      <td>0</td>\n",
       "      <td>0</td>\n",
       "      <td>0</td>\n",
       "      <td>1</td>\n",
       "      <td>0</td>\n",
       "      <td>0</td>\n",
       "      <td>0</td>\n",
       "      <td>0</td>\n",
       "      <td>1</td>\n",
       "      <td>0</td>\n",
       "    </tr>\n",
       "    <tr>\n",
       "      <th>125</th>\n",
       "      <td>126</td>\n",
       "      <td>1.0</td>\n",
       "      <td>1</td>\n",
       "      <td>1</td>\n",
       "      <td>0.0</td>\n",
       "      <td>1</td>\n",
       "      <td>0.212389</td>\n",
       "      <td>0.500388</td>\n",
       "      <td>0.339623</td>\n",
       "      <td>1.000000</td>\n",
       "      <td>...</td>\n",
       "      <td>0</td>\n",
       "      <td>0</td>\n",
       "      <td>0</td>\n",
       "      <td>0</td>\n",
       "      <td>0</td>\n",
       "      <td>1</td>\n",
       "      <td>0</td>\n",
       "      <td>0</td>\n",
       "      <td>0</td>\n",
       "      <td>1</td>\n",
       "    </tr>\n",
       "    <tr>\n",
       "      <th>166</th>\n",
       "      <td>167</td>\n",
       "      <td>0.6</td>\n",
       "      <td>1</td>\n",
       "      <td>1</td>\n",
       "      <td>0.0</td>\n",
       "      <td>1</td>\n",
       "      <td>0.424779</td>\n",
       "      <td>0.314973</td>\n",
       "      <td>0.139623</td>\n",
       "      <td>0.444444</td>\n",
       "      <td>...</td>\n",
       "      <td>0</td>\n",
       "      <td>0</td>\n",
       "      <td>0</td>\n",
       "      <td>0</td>\n",
       "      <td>0</td>\n",
       "      <td>1</td>\n",
       "      <td>0</td>\n",
       "      <td>0</td>\n",
       "      <td>0</td>\n",
       "      <td>1</td>\n",
       "    </tr>\n",
       "    <tr>\n",
       "      <th>1</th>\n",
       "      <td>2</td>\n",
       "      <td>1.0</td>\n",
       "      <td>1</td>\n",
       "      <td>1</td>\n",
       "      <td>0.0</td>\n",
       "      <td>1</td>\n",
       "      <td>0.088496</td>\n",
       "      <td>0.411171</td>\n",
       "      <td>0.260377</td>\n",
       "      <td>0.626984</td>\n",
       "      <td>...</td>\n",
       "      <td>0</td>\n",
       "      <td>0</td>\n",
       "      <td>0</td>\n",
       "      <td>0</td>\n",
       "      <td>0</td>\n",
       "      <td>1</td>\n",
       "      <td>0</td>\n",
       "      <td>0</td>\n",
       "      <td>0</td>\n",
       "      <td>1</td>\n",
       "    </tr>\n",
       "    <tr>\n",
       "      <th>199</th>\n",
       "      <td>200</td>\n",
       "      <td>0.2</td>\n",
       "      <td>1</td>\n",
       "      <td>0</td>\n",
       "      <td>1.0</td>\n",
       "      <td>1</td>\n",
       "      <td>0.858407</td>\n",
       "      <td>0.647401</td>\n",
       "      <td>0.260377</td>\n",
       "      <td>0.746032</td>\n",
       "      <td>...</td>\n",
       "      <td>0</td>\n",
       "      <td>0</td>\n",
       "      <td>0</td>\n",
       "      <td>0</td>\n",
       "      <td>0</td>\n",
       "      <td>1</td>\n",
       "      <td>0</td>\n",
       "      <td>0</td>\n",
       "      <td>0</td>\n",
       "      <td>1</td>\n",
       "    </tr>\n",
       "  </tbody>\n",
       "</table>\n",
       "<p>5 rows × 51 columns</p>\n",
       "</div>"
      ],
      "text/plain": [
       "     car_ID  symboling  fueltype  aspiration  doornumber  enginelocation  \\\n",
       "122     123        0.6         1           1         1.0               1   \n",
       "125     126        1.0         1           1         0.0               1   \n",
       "166     167        0.6         1           1         0.0               1   \n",
       "1         2        1.0         1           1         0.0               1   \n",
       "199     200        0.2         1           0         1.0               1   \n",
       "\n",
       "     carheight  curbweight  enginesize  boreratio ...   ohcf  ohcv  rotor  \\\n",
       "122   0.265487    0.272692    0.139623   0.230159 ...      0     0      0   \n",
       "125   0.212389    0.500388    0.339623   1.000000 ...      0     0      0   \n",
       "166   0.424779    0.314973    0.139623   0.444444 ...      0     0      0   \n",
       "1     0.088496    0.411171    0.260377   0.626984 ...      0     0      0   \n",
       "199   0.858407    0.647401    0.260377   0.746032 ...      0     0      0   \n",
       "\n",
       "     2bbl  4bbl  mpfi  spdi  spfi  fwd  rwd  \n",
       "122     1     0     0     0     0    1    0  \n",
       "125     0     0     1     0     0    0    1  \n",
       "166     0     0     1     0     0    0    1  \n",
       "1       0     0     1     0     0    0    1  \n",
       "199     0     0     1     0     0    0    1  \n",
       "\n",
       "[5 rows x 51 columns]"
      ]
     },
     "execution_count": 30,
     "metadata": {},
     "output_type": "execute_result"
    }
   ],
   "source": [
    "df_train.head()"
   ]
  },
  {
   "cell_type": "code",
   "execution_count": 31,
   "metadata": {},
   "outputs": [
    {
     "data": {
      "text/html": [
       "<div>\n",
       "<style scoped>\n",
       "    .dataframe tbody tr th:only-of-type {\n",
       "        vertical-align: middle;\n",
       "    }\n",
       "\n",
       "    .dataframe tbody tr th {\n",
       "        vertical-align: top;\n",
       "    }\n",
       "\n",
       "    .dataframe thead th {\n",
       "        text-align: right;\n",
       "    }\n",
       "</style>\n",
       "<table border=\"1\" class=\"dataframe\">\n",
       "  <thead>\n",
       "    <tr style=\"text-align: right;\">\n",
       "      <th></th>\n",
       "      <th>car_ID</th>\n",
       "      <th>symboling</th>\n",
       "      <th>fueltype</th>\n",
       "      <th>aspiration</th>\n",
       "      <th>doornumber</th>\n",
       "      <th>enginelocation</th>\n",
       "      <th>carheight</th>\n",
       "      <th>curbweight</th>\n",
       "      <th>enginesize</th>\n",
       "      <th>boreratio</th>\n",
       "      <th>...</th>\n",
       "      <th>ohcf</th>\n",
       "      <th>ohcv</th>\n",
       "      <th>rotor</th>\n",
       "      <th>2bbl</th>\n",
       "      <th>4bbl</th>\n",
       "      <th>mpfi</th>\n",
       "      <th>spdi</th>\n",
       "      <th>spfi</th>\n",
       "      <th>fwd</th>\n",
       "      <th>rwd</th>\n",
       "    </tr>\n",
       "  </thead>\n",
       "  <tbody>\n",
       "    <tr>\n",
       "      <th>count</th>\n",
       "      <td>143.000000</td>\n",
       "      <td>143.000000</td>\n",
       "      <td>143.000000</td>\n",
       "      <td>143.000000</td>\n",
       "      <td>143.000000</td>\n",
       "      <td>143.000000</td>\n",
       "      <td>143.000000</td>\n",
       "      <td>143.000000</td>\n",
       "      <td>143.000000</td>\n",
       "      <td>143.000000</td>\n",
       "      <td>...</td>\n",
       "      <td>143.000000</td>\n",
       "      <td>143.000000</td>\n",
       "      <td>143.000000</td>\n",
       "      <td>143.000000</td>\n",
       "      <td>143.000000</td>\n",
       "      <td>143.000000</td>\n",
       "      <td>143.000000</td>\n",
       "      <td>143.0</td>\n",
       "      <td>143.000000</td>\n",
       "      <td>143.000000</td>\n",
       "    </tr>\n",
       "    <tr>\n",
       "      <th>mean</th>\n",
       "      <td>98.524476</td>\n",
       "      <td>0.559441</td>\n",
       "      <td>0.909091</td>\n",
       "      <td>0.818182</td>\n",
       "      <td>0.559441</td>\n",
       "      <td>0.993007</td>\n",
       "      <td>0.509004</td>\n",
       "      <td>0.407878</td>\n",
       "      <td>0.241351</td>\n",
       "      <td>0.497946</td>\n",
       "      <td>...</td>\n",
       "      <td>0.083916</td>\n",
       "      <td>0.062937</td>\n",
       "      <td>0.027972</td>\n",
       "      <td>0.349650</td>\n",
       "      <td>0.020979</td>\n",
       "      <td>0.440559</td>\n",
       "      <td>0.041958</td>\n",
       "      <td>0.0</td>\n",
       "      <td>0.594406</td>\n",
       "      <td>0.349650</td>\n",
       "    </tr>\n",
       "    <tr>\n",
       "      <th>std</th>\n",
       "      <td>58.977655</td>\n",
       "      <td>0.239200</td>\n",
       "      <td>0.288490</td>\n",
       "      <td>0.387050</td>\n",
       "      <td>0.498199</td>\n",
       "      <td>0.083624</td>\n",
       "      <td>0.215378</td>\n",
       "      <td>0.211269</td>\n",
       "      <td>0.154619</td>\n",
       "      <td>0.207140</td>\n",
       "      <td>...</td>\n",
       "      <td>0.278236</td>\n",
       "      <td>0.243703</td>\n",
       "      <td>0.165472</td>\n",
       "      <td>0.478536</td>\n",
       "      <td>0.143818</td>\n",
       "      <td>0.498199</td>\n",
       "      <td>0.201198</td>\n",
       "      <td>0.0</td>\n",
       "      <td>0.492733</td>\n",
       "      <td>0.478536</td>\n",
       "    </tr>\n",
       "    <tr>\n",
       "      <th>min</th>\n",
       "      <td>1.000000</td>\n",
       "      <td>0.000000</td>\n",
       "      <td>0.000000</td>\n",
       "      <td>0.000000</td>\n",
       "      <td>0.000000</td>\n",
       "      <td>0.000000</td>\n",
       "      <td>0.000000</td>\n",
       "      <td>0.000000</td>\n",
       "      <td>0.000000</td>\n",
       "      <td>0.000000</td>\n",
       "      <td>...</td>\n",
       "      <td>0.000000</td>\n",
       "      <td>0.000000</td>\n",
       "      <td>0.000000</td>\n",
       "      <td>0.000000</td>\n",
       "      <td>0.000000</td>\n",
       "      <td>0.000000</td>\n",
       "      <td>0.000000</td>\n",
       "      <td>0.0</td>\n",
       "      <td>0.000000</td>\n",
       "      <td>0.000000</td>\n",
       "    </tr>\n",
       "    <tr>\n",
       "      <th>25%</th>\n",
       "      <td>48.500000</td>\n",
       "      <td>0.400000</td>\n",
       "      <td>1.000000</td>\n",
       "      <td>1.000000</td>\n",
       "      <td>0.000000</td>\n",
       "      <td>1.000000</td>\n",
       "      <td>0.353982</td>\n",
       "      <td>0.245539</td>\n",
       "      <td>0.135849</td>\n",
       "      <td>0.305556</td>\n",
       "      <td>...</td>\n",
       "      <td>0.000000</td>\n",
       "      <td>0.000000</td>\n",
       "      <td>0.000000</td>\n",
       "      <td>0.000000</td>\n",
       "      <td>0.000000</td>\n",
       "      <td>0.000000</td>\n",
       "      <td>0.000000</td>\n",
       "      <td>0.0</td>\n",
       "      <td>0.000000</td>\n",
       "      <td>0.000000</td>\n",
       "    </tr>\n",
       "    <tr>\n",
       "      <th>50%</th>\n",
       "      <td>97.000000</td>\n",
       "      <td>0.600000</td>\n",
       "      <td>1.000000</td>\n",
       "      <td>1.000000</td>\n",
       "      <td>1.000000</td>\n",
       "      <td>1.000000</td>\n",
       "      <td>0.522124</td>\n",
       "      <td>0.355702</td>\n",
       "      <td>0.184906</td>\n",
       "      <td>0.500000</td>\n",
       "      <td>...</td>\n",
       "      <td>0.000000</td>\n",
       "      <td>0.000000</td>\n",
       "      <td>0.000000</td>\n",
       "      <td>0.000000</td>\n",
       "      <td>0.000000</td>\n",
       "      <td>0.000000</td>\n",
       "      <td>0.000000</td>\n",
       "      <td>0.0</td>\n",
       "      <td>1.000000</td>\n",
       "      <td>0.000000</td>\n",
       "    </tr>\n",
       "    <tr>\n",
       "      <th>75%</th>\n",
       "      <td>147.500000</td>\n",
       "      <td>0.600000</td>\n",
       "      <td>1.000000</td>\n",
       "      <td>1.000000</td>\n",
       "      <td>1.000000</td>\n",
       "      <td>1.000000</td>\n",
       "      <td>0.668142</td>\n",
       "      <td>0.559542</td>\n",
       "      <td>0.301887</td>\n",
       "      <td>0.682540</td>\n",
       "      <td>...</td>\n",
       "      <td>0.000000</td>\n",
       "      <td>0.000000</td>\n",
       "      <td>0.000000</td>\n",
       "      <td>1.000000</td>\n",
       "      <td>0.000000</td>\n",
       "      <td>1.000000</td>\n",
       "      <td>0.000000</td>\n",
       "      <td>0.0</td>\n",
       "      <td>1.000000</td>\n",
       "      <td>1.000000</td>\n",
       "    </tr>\n",
       "    <tr>\n",
       "      <th>max</th>\n",
       "      <td>205.000000</td>\n",
       "      <td>1.000000</td>\n",
       "      <td>1.000000</td>\n",
       "      <td>1.000000</td>\n",
       "      <td>1.000000</td>\n",
       "      <td>1.000000</td>\n",
       "      <td>1.000000</td>\n",
       "      <td>1.000000</td>\n",
       "      <td>1.000000</td>\n",
       "      <td>1.000000</td>\n",
       "      <td>...</td>\n",
       "      <td>1.000000</td>\n",
       "      <td>1.000000</td>\n",
       "      <td>1.000000</td>\n",
       "      <td>1.000000</td>\n",
       "      <td>1.000000</td>\n",
       "      <td>1.000000</td>\n",
       "      <td>1.000000</td>\n",
       "      <td>0.0</td>\n",
       "      <td>1.000000</td>\n",
       "      <td>1.000000</td>\n",
       "    </tr>\n",
       "  </tbody>\n",
       "</table>\n",
       "<p>8 rows × 51 columns</p>\n",
       "</div>"
      ],
      "text/plain": [
       "           car_ID   symboling    fueltype  aspiration  doornumber  \\\n",
       "count  143.000000  143.000000  143.000000  143.000000  143.000000   \n",
       "mean    98.524476    0.559441    0.909091    0.818182    0.559441   \n",
       "std     58.977655    0.239200    0.288490    0.387050    0.498199   \n",
       "min      1.000000    0.000000    0.000000    0.000000    0.000000   \n",
       "25%     48.500000    0.400000    1.000000    1.000000    0.000000   \n",
       "50%     97.000000    0.600000    1.000000    1.000000    1.000000   \n",
       "75%    147.500000    0.600000    1.000000    1.000000    1.000000   \n",
       "max    205.000000    1.000000    1.000000    1.000000    1.000000   \n",
       "\n",
       "       enginelocation   carheight  curbweight  enginesize   boreratio  \\\n",
       "count      143.000000  143.000000  143.000000  143.000000  143.000000   \n",
       "mean         0.993007    0.509004    0.407878    0.241351    0.497946   \n",
       "std          0.083624    0.215378    0.211269    0.154619    0.207140   \n",
       "min          0.000000    0.000000    0.000000    0.000000    0.000000   \n",
       "25%          1.000000    0.353982    0.245539    0.135849    0.305556   \n",
       "50%          1.000000    0.522124    0.355702    0.184906    0.500000   \n",
       "75%          1.000000    0.668142    0.559542    0.301887    0.682540   \n",
       "max          1.000000    1.000000    1.000000    1.000000    1.000000   \n",
       "\n",
       "          ...            ohcf        ohcv       rotor        2bbl        4bbl  \\\n",
       "count     ...      143.000000  143.000000  143.000000  143.000000  143.000000   \n",
       "mean      ...        0.083916    0.062937    0.027972    0.349650    0.020979   \n",
       "std       ...        0.278236    0.243703    0.165472    0.478536    0.143818   \n",
       "min       ...        0.000000    0.000000    0.000000    0.000000    0.000000   \n",
       "25%       ...        0.000000    0.000000    0.000000    0.000000    0.000000   \n",
       "50%       ...        0.000000    0.000000    0.000000    0.000000    0.000000   \n",
       "75%       ...        0.000000    0.000000    0.000000    1.000000    0.000000   \n",
       "max       ...        1.000000    1.000000    1.000000    1.000000    1.000000   \n",
       "\n",
       "             mpfi        spdi   spfi         fwd         rwd  \n",
       "count  143.000000  143.000000  143.0  143.000000  143.000000  \n",
       "mean     0.440559    0.041958    0.0    0.594406    0.349650  \n",
       "std      0.498199    0.201198    0.0    0.492733    0.478536  \n",
       "min      0.000000    0.000000    0.0    0.000000    0.000000  \n",
       "25%      0.000000    0.000000    0.0    0.000000    0.000000  \n",
       "50%      0.000000    0.000000    0.0    1.000000    0.000000  \n",
       "75%      1.000000    0.000000    0.0    1.000000    1.000000  \n",
       "max      1.000000    1.000000    0.0    1.000000    1.000000  \n",
       "\n",
       "[8 rows x 51 columns]"
      ]
     },
     "execution_count": 31,
     "metadata": {},
     "output_type": "execute_result"
    }
   ],
   "source": [
    "df_train.describe()"
   ]
  },
  {
   "cell_type": "code",
   "execution_count": 32,
   "metadata": {
    "scrolled": true
   },
   "outputs": [],
   "source": [
    "# Dividing  X and y  for model building\n",
    "y_train=df_train.pop('price')\n",
    "X_train=df_train"
   ]
  },
  {
   "cell_type": "code",
   "execution_count": 33,
   "metadata": {},
   "outputs": [
    {
     "data": {
      "text/plain": [
       "(143, 50)"
      ]
     },
     "execution_count": 33,
     "metadata": {},
     "output_type": "execute_result"
    }
   ],
   "source": [
    "#Analysing the shape of the X_train dataframe\n",
    "X_train.shape"
   ]
  },
  {
   "cell_type": "code",
   "execution_count": 34,
   "metadata": {},
   "outputs": [],
   "source": [
    "#Runnig RFE for selecting 20 out of 50 variables\n",
    "lr=LinearRegression()\n",
    "lr.fit(X_train,y_train)\n",
    "\n",
    "rfe=RFE(lr,20)\n",
    "rfe=rfe.fit(X_train,y_train)"
   ]
  },
  {
   "cell_type": "code",
   "execution_count": 35,
   "metadata": {},
   "outputs": [
    {
     "data": {
      "text/plain": [
       "[('car_ID', False, 30),\n",
       " ('symboling', False, 10),\n",
       " ('fueltype', True, 1),\n",
       " ('aspiration', False, 5),\n",
       " ('doornumber', False, 23),\n",
       " ('enginelocation', True, 1),\n",
       " ('carheight', False, 21),\n",
       " ('curbweight', True, 1),\n",
       " ('enginesize', True, 1),\n",
       " ('boreratio', False, 2),\n",
       " ('stroke', False, 3),\n",
       " ('compressionratio', True, 1),\n",
       " ('horsepower', True, 1),\n",
       " ('peakrpm', True, 1),\n",
       " ('highwaympg', True, 1),\n",
       " ('alfa-romero', False, 7),\n",
       " ('audi', True, 1),\n",
       " ('bmw', True, 1),\n",
       " ('buick', True, 1),\n",
       " ('chevrolet', False, 20),\n",
       " ('honda', False, 17),\n",
       " ('isuzu', False, 11),\n",
       " ('jaguar', True, 1),\n",
       " ('mazda', False, 9),\n",
       " ('mitsubishi', True, 1),\n",
       " ('nissan', False, 22),\n",
       " ('plymouth', False, 6),\n",
       " ('porsche', True, 1),\n",
       " ('renault', False, 25),\n",
       " ('subaru', False, 24),\n",
       " ('toyota', False, 19),\n",
       " ('volkswagen', False, 18),\n",
       " ('volvo', True, 1),\n",
       " ('hardtop', True, 1),\n",
       " ('hatchback', True, 1),\n",
       " ('sedan', True, 1),\n",
       " ('wagon', True, 1),\n",
       " ('dohc', False, 26),\n",
       " ('l', False, 16),\n",
       " ('ohc', False, 15),\n",
       " ('ohcf', False, 12),\n",
       " ('ohcv', False, 4),\n",
       " ('rotor', True, 1),\n",
       " ('2bbl', False, 13),\n",
       " ('4bbl', False, 27),\n",
       " ('mpfi', False, 14),\n",
       " ('spdi', False, 28),\n",
       " ('spfi', False, 31),\n",
       " ('fwd', False, 8),\n",
       " ('rwd', False, 29)]"
      ]
     },
     "execution_count": 35,
     "metadata": {},
     "output_type": "execute_result"
    }
   ],
   "source": [
    "#Checking the ranking for features assigned by FRFE algorithm\n",
    "list(zip(X_train.columns,rfe.support_,rfe.ranking_))"
   ]
  },
  {
   "cell_type": "code",
   "execution_count": 36,
   "metadata": {},
   "outputs": [
    {
     "data": {
      "text/plain": [
       "Index(['fueltype', 'enginelocation', 'curbweight', 'enginesize',\n",
       "       'compressionratio', 'horsepower', 'peakrpm', 'highwaympg', 'audi',\n",
       "       'bmw', 'buick', 'jaguar', 'mitsubishi', 'porsche', 'volvo', 'hardtop',\n",
       "       'hatchback', 'sedan', 'wagon', 'rotor'],\n",
       "      dtype='object')"
      ]
     },
     "execution_count": 36,
     "metadata": {},
     "output_type": "execute_result"
    }
   ],
   "source": [
    "col = X_train.columns[rfe.support_]\n",
    "col"
   ]
  },
  {
   "cell_type": "code",
   "execution_count": 37,
   "metadata": {},
   "outputs": [
    {
     "data": {
      "text/plain": [
       "Index(['car_ID', 'symboling', 'aspiration', 'doornumber', 'carheight',\n",
       "       'boreratio', 'stroke', 'alfa-romero', 'chevrolet', 'honda', 'isuzu',\n",
       "       'mazda', 'nissan', 'plymouth', 'renault', 'subaru', 'toyota',\n",
       "       'volkswagen', 'dohc', 'l', 'ohc', 'ohcf', 'ohcv', '2bbl', '4bbl',\n",
       "       'mpfi', 'spdi', 'spfi', 'fwd', 'rwd'],\n",
       "      dtype='object')"
      ]
     },
     "execution_count": 37,
     "metadata": {},
     "output_type": "execute_result"
    }
   ],
   "source": [
    "X_train.columns[~rfe.support_]"
   ]
  },
  {
   "cell_type": "code",
   "execution_count": 38,
   "metadata": {},
   "outputs": [],
   "source": [
    "#Creating X_train dataframe with RFE selected variables\n",
    "X_train = X_train[col]"
   ]
  },
  {
   "cell_type": "code",
   "execution_count": 39,
   "metadata": {},
   "outputs": [
    {
     "name": "stdout",
     "output_type": "stream",
     "text": [
      "                            OLS Regression Results                            \n",
      "==============================================================================\n",
      "Dep. Variable:                  price   R-squared:                       0.945\n",
      "Model:                            OLS   Adj. R-squared:                  0.936\n",
      "Method:                 Least Squares   F-statistic:                     104.5\n",
      "Date:                Mon, 07 Oct 2019   Prob (F-statistic):           6.88e-67\n",
      "Time:                        23:33:10   Log-Likelihood:                 224.11\n",
      "No. Observations:                 143   AIC:                            -406.2\n",
      "Df Residuals:                     122   BIC:                            -344.0\n",
      "Df Model:                          20                                         \n",
      "Covariance Type:            nonrobust                                         \n",
      "====================================================================================\n",
      "                       coef    std err          t      P>|t|      [0.025      0.975]\n",
      "------------------------------------------------------------------------------------\n",
      "const                0.3096      0.156      1.986      0.049       0.001       0.618\n",
      "fueltype            -0.1265      0.126     -1.005      0.317      -0.376       0.123\n",
      "enginelocation      -0.2548      0.081     -3.164      0.002      -0.414      -0.095\n",
      "curbweight           0.4545      0.084      5.424      0.000       0.289       0.620\n",
      "enginesize           0.1608      0.124      1.297      0.197      -0.085       0.406\n",
      "compressionratio    -0.1191      0.153     -0.779      0.437      -0.422       0.184\n",
      "horsepower           0.2741      0.086      3.181      0.002       0.103       0.445\n",
      "peakrpm              0.0649      0.035      1.867      0.064      -0.004       0.134\n",
      "highwaympg           0.1251      0.063      1.970      0.051      -0.001       0.251\n",
      "audi                 0.1074      0.028      3.875      0.000       0.053       0.162\n",
      "bmw                  0.2973      0.026     11.229      0.000       0.245       0.350\n",
      "buick                0.2531      0.033      7.601      0.000       0.187       0.319\n",
      "jaguar               0.2102      0.050      4.189      0.000       0.111       0.309\n",
      "mitsubishi          -0.0469      0.021     -2.229      0.028      -0.089      -0.005\n",
      "porsche              0.1752      0.047      3.692      0.000       0.081       0.269\n",
      "volvo                0.0917      0.026      3.562      0.001       0.041       0.143\n",
      "hardtop             -0.1002      0.048     -2.076      0.040      -0.196      -0.005\n",
      "hatchback           -0.1020      0.030     -3.369      0.001      -0.162      -0.042\n",
      "sedan               -0.0898      0.030     -3.016      0.003      -0.149      -0.031\n",
      "wagon               -0.1203      0.032     -3.724      0.000      -0.184      -0.056\n",
      "rotor                0.1006      0.041      2.464      0.015       0.020       0.181\n",
      "==============================================================================\n",
      "Omnibus:                       28.651   Durbin-Watson:                   2.035\n",
      "Prob(Omnibus):                  0.000   Jarque-Bera (JB):               99.190\n",
      "Skew:                           0.655   Prob(JB):                     2.89e-22\n",
      "Kurtosis:                       6.864   Cond. No.                         105.\n",
      "==============================================================================\n",
      "\n",
      "Warnings:\n",
      "[1] Standard Errors assume that the covariance matrix of the errors is correctly specified.\n"
     ]
    }
   ],
   "source": [
    "import statsmodels.api as sm  \n",
    "X_train = sm.add_constant(X_train)  # Adding a constant variable \n",
    "lm = sm.OLS(y_train,X_train).fit()   # Running the linear model\n",
    "print(lm.summary())  # printing the summary of the model"
   ]
  },
  {
   "cell_type": "markdown",
   "metadata": {},
   "source": [
    "#### Eliminating varaibales with p-values greater than 0.05 as they are insignificant"
   ]
  },
  {
   "cell_type": "code",
   "execution_count": 40,
   "metadata": {},
   "outputs": [
    {
     "name": "stdout",
     "output_type": "stream",
     "text": [
      "                            OLS Regression Results                            \n",
      "==============================================================================\n",
      "Dep. Variable:                  price   R-squared:                       0.945\n",
      "Model:                            OLS   Adj. R-squared:                  0.936\n",
      "Method:                 Least Squares   F-statistic:                     110.3\n",
      "Date:                Mon, 07 Oct 2019   Prob (F-statistic):           8.71e-68\n",
      "Time:                        23:33:10   Log-Likelihood:                 223.76\n",
      "No. Observations:                 143   AIC:                            -407.5\n",
      "Df Residuals:                     123   BIC:                            -348.3\n",
      "Df Model:                          19                                         \n",
      "Covariance Type:            nonrobust                                         \n",
      "==================================================================================\n",
      "                     coef    std err          t      P>|t|      [0.025      0.975]\n",
      "----------------------------------------------------------------------------------\n",
      "const              0.2159      0.099      2.181      0.031       0.020       0.412\n",
      "fueltype          -0.0305      0.026     -1.189      0.237      -0.081       0.020\n",
      "enginelocation    -0.2627      0.080     -3.294      0.001      -0.421      -0.105\n",
      "curbweight         0.4667      0.082      5.677      0.000       0.304       0.629\n",
      "enginesize         0.1285      0.117      1.102      0.273      -0.102       0.359\n",
      "horsepower         0.2828      0.085      3.314      0.001       0.114       0.452\n",
      "peakrpm            0.0601      0.034      1.759      0.081      -0.008       0.128\n",
      "highwaympg         0.1108      0.061      1.826      0.070      -0.009       0.231\n",
      "audi               0.1096      0.028      3.985      0.000       0.055       0.164\n",
      "bmw                0.2987      0.026     11.326      0.000       0.247       0.351\n",
      "buick              0.2546      0.033      7.673      0.000       0.189       0.320\n",
      "jaguar             0.2104      0.050      4.200      0.000       0.111       0.310\n",
      "mitsubishi        -0.0410      0.020     -2.092      0.038      -0.080      -0.002\n",
      "porsche            0.1674      0.046      3.615      0.000       0.076       0.259\n",
      "volvo              0.0874      0.025      3.481      0.001       0.038       0.137\n",
      "hardtop           -0.1023      0.048     -2.127      0.035      -0.198      -0.007\n",
      "hatchback         -0.1015      0.030     -3.358      0.001      -0.161      -0.042\n",
      "sedan             -0.0901      0.030     -3.030      0.003      -0.149      -0.031\n",
      "wagon             -0.1218      0.032     -3.785      0.000      -0.186      -0.058\n",
      "rotor              0.0886      0.038      2.347      0.021       0.014       0.163\n",
      "==============================================================================\n",
      "Omnibus:                       30.441   Durbin-Watson:                   2.054\n",
      "Prob(Omnibus):                  0.000   Jarque-Bera (JB):              114.893\n",
      "Skew:                           0.674   Prob(JB):                     1.13e-25\n",
      "Kurtosis:                       7.179   Cond. No.                         61.8\n",
      "==============================================================================\n",
      "\n",
      "Warnings:\n",
      "[1] Standard Errors assume that the covariance matrix of the errors is correctly specified.\n"
     ]
    }
   ],
   "source": [
    "# Eliminating variable compression ratio that has the highest p-value\n",
    "X_train1=X_train.drop('compressionratio',axis=1)\n",
    "\n",
    "# Rebuiding the model\n",
    "X_train1 = sm.add_constant(X_train1)\n",
    "lm1 = sm.OLS(y_train,X_train1).fit()\n",
    "print(lm1.summary())"
   ]
  },
  {
   "cell_type": "code",
   "execution_count": 41,
   "metadata": {},
   "outputs": [
    {
     "name": "stdout",
     "output_type": "stream",
     "text": [
      "                            OLS Regression Results                            \n",
      "==============================================================================\n",
      "Dep. Variable:                  price   R-squared:                       0.944\n",
      "Model:                            OLS   Adj. R-squared:                  0.936\n",
      "Method:                 Least Squares   F-statistic:                     116.2\n",
      "Date:                Mon, 07 Oct 2019   Prob (F-statistic):           1.45e-68\n",
      "Time:                        23:33:10   Log-Likelihood:                 223.05\n",
      "No. Observations:                 143   AIC:                            -408.1\n",
      "Df Residuals:                     124   BIC:                            -351.8\n",
      "Df Model:                          18                                         \n",
      "Covariance Type:            nonrobust                                         \n",
      "==================================================================================\n",
      "                     coef    std err          t      P>|t|      [0.025      0.975]\n",
      "----------------------------------------------------------------------------------\n",
      "const              0.2369      0.097      2.438      0.016       0.045       0.429\n",
      "fueltype          -0.0293      0.026     -1.142      0.256      -0.080       0.021\n",
      "enginelocation    -0.2762      0.079     -3.502      0.001      -0.432      -0.120\n",
      "curbweight         0.5031      0.075      6.676      0.000       0.354       0.652\n",
      "horsepower         0.3378      0.069      4.881      0.000       0.201       0.475\n",
      "peakrpm            0.0494      0.033      1.508      0.134      -0.015       0.114\n",
      "highwaympg         0.1175      0.060      1.945      0.054      -0.002       0.237\n",
      "audi               0.1072      0.027      3.905      0.000       0.053       0.161\n",
      "bmw                0.3064      0.025     12.030      0.000       0.256       0.357\n",
      "buick              0.2687      0.031      8.769      0.000       0.208       0.329\n",
      "jaguar             0.2426      0.041      5.963      0.000       0.162       0.323\n",
      "mitsubishi        -0.0416      0.020     -2.124      0.036      -0.080      -0.003\n",
      "porsche            0.1624      0.046      3.521      0.001       0.071       0.254\n",
      "volvo              0.0878      0.025      3.494      0.001       0.038       0.138\n",
      "hardtop           -0.1033      0.048     -2.146      0.034      -0.199      -0.008\n",
      "hatchback         -0.1053      0.030     -3.504      0.001      -0.165      -0.046\n",
      "sedan             -0.0937      0.030     -3.164      0.002      -0.152      -0.035\n",
      "wagon             -0.1298      0.031     -4.134      0.000      -0.192      -0.068\n",
      "rotor              0.0691      0.033      2.070      0.040       0.003       0.135\n",
      "==============================================================================\n",
      "Omnibus:                       33.057   Durbin-Watson:                   2.051\n",
      "Prob(Omnibus):                  0.000   Jarque-Bera (JB):              139.002\n",
      "Skew:                           0.708   Prob(JB):                     6.55e-31\n",
      "Kurtosis:                       7.618   Cond. No.                         53.0\n",
      "==============================================================================\n",
      "\n",
      "Warnings:\n",
      "[1] Standard Errors assume that the covariance matrix of the errors is correctly specified.\n"
     ]
    }
   ],
   "source": [
    "# Eliminating variable engine size that has the next highest p-value\n",
    "X_train1=X_train1.drop('enginesize',axis=1)\n",
    "\n",
    "# Rebuiding the model\n",
    "X_train1 = sm.add_constant(X_train1)\n",
    "lm2 = sm.OLS(y_train,X_train1).fit()\n",
    "print(lm2.summary())"
   ]
  },
  {
   "cell_type": "code",
   "execution_count": 42,
   "metadata": {},
   "outputs": [
    {
     "name": "stdout",
     "output_type": "stream",
     "text": [
      "                            OLS Regression Results                            \n",
      "==============================================================================\n",
      "Dep. Variable:                  price   R-squared:                       0.943\n",
      "Model:                            OLS   Adj. R-squared:                  0.936\n",
      "Method:                 Least Squares   F-statistic:                     122.6\n",
      "Date:                Mon, 07 Oct 2019   Prob (F-statistic):           2.45e-69\n",
      "Time:                        23:33:10   Log-Likelihood:                 222.31\n",
      "No. Observations:                 143   AIC:                            -408.6\n",
      "Df Residuals:                     125   BIC:                            -355.3\n",
      "Df Model:                          17                                         \n",
      "Covariance Type:            nonrobust                                         \n",
      "==================================================================================\n",
      "                     coef    std err          t      P>|t|      [0.025      0.975]\n",
      "----------------------------------------------------------------------------------\n",
      "const              0.1929      0.089      2.159      0.033       0.016       0.370\n",
      "enginelocation    -0.2875      0.078     -3.670      0.000      -0.443      -0.132\n",
      "curbweight         0.5548      0.060      9.198      0.000       0.435       0.674\n",
      "horsepower         0.3172      0.067      4.741      0.000       0.185       0.450\n",
      "peakrpm            0.0436      0.032      1.346      0.181      -0.021       0.108\n",
      "highwaympg         0.1539      0.051      2.994      0.003       0.052       0.256\n",
      "audi               0.1083      0.027      3.944      0.000       0.054       0.163\n",
      "bmw                0.3023      0.025     11.974      0.000       0.252       0.352\n",
      "buick              0.2707      0.031      8.838      0.000       0.210       0.331\n",
      "jaguar             0.2298      0.039      5.869      0.000       0.152       0.307\n",
      "mitsubishi        -0.0412      0.020     -2.099      0.038      -0.080      -0.002\n",
      "porsche            0.1631      0.046      3.533      0.001       0.072       0.255\n",
      "volvo              0.0871      0.025      3.461      0.001       0.037       0.137\n",
      "hardtop           -0.1048      0.048     -2.176      0.031      -0.200      -0.009\n",
      "hatchback         -0.1042      0.030     -3.466      0.001      -0.164      -0.045\n",
      "sedan             -0.0919      0.030     -3.106      0.002      -0.150      -0.033\n",
      "wagon             -0.1315      0.031     -4.191      0.000      -0.194      -0.069\n",
      "rotor              0.0793      0.032      2.463      0.015       0.016       0.143\n",
      "==============================================================================\n",
      "Omnibus:                       32.872   Durbin-Watson:                   2.042\n",
      "Prob(Omnibus):                  0.000   Jarque-Bera (JB):              139.251\n",
      "Skew:                           0.700   Prob(JB):                     5.78e-31\n",
      "Kurtosis:                       7.627   Cond. No.                         44.4\n",
      "==============================================================================\n",
      "\n",
      "Warnings:\n",
      "[1] Standard Errors assume that the covariance matrix of the errors is correctly specified.\n"
     ]
    }
   ],
   "source": [
    "# Eliminating variable fueltype that has the next highest p-value\n",
    "X_train1=X_train1.drop('fueltype',axis=1)\n",
    "\n",
    "# Rebuiding the model\n",
    "X_train1 = sm.add_constant(X_train1)\n",
    "lm3 = sm.OLS(y_train,X_train1).fit()\n",
    "print(lm3.summary())"
   ]
  },
  {
   "cell_type": "code",
   "execution_count": 43,
   "metadata": {},
   "outputs": [
    {
     "name": "stdout",
     "output_type": "stream",
     "text": [
      "                            OLS Regression Results                            \n",
      "==============================================================================\n",
      "Dep. Variable:                  price   R-squared:                       0.943\n",
      "Model:                            OLS   Adj. R-squared:                  0.935\n",
      "Method:                 Least Squares   F-statistic:                     129.3\n",
      "Date:                Mon, 07 Oct 2019   Prob (F-statistic):           5.16e-70\n",
      "Time:                        23:33:10   Log-Likelihood:                 221.28\n",
      "No. Observations:                 143   AIC:                            -408.6\n",
      "Df Residuals:                     126   BIC:                            -358.2\n",
      "Df Model:                          16                                         \n",
      "Covariance Type:            nonrobust                                         \n",
      "==================================================================================\n",
      "                     coef    std err          t      P>|t|      [0.025      0.975]\n",
      "----------------------------------------------------------------------------------\n",
      "const              0.2259      0.086      2.621      0.010       0.055       0.396\n",
      "enginelocation    -0.2892      0.079     -3.679      0.000      -0.445      -0.134\n",
      "curbweight         0.5107      0.051     10.050      0.000       0.410       0.611\n",
      "horsepower         0.3504      0.062      5.617      0.000       0.227       0.474\n",
      "highwaympg         0.1393      0.050      2.763      0.007       0.040       0.239\n",
      "audi               0.1148      0.027      4.235      0.000       0.061       0.168\n",
      "bmw                0.2992      0.025     11.862      0.000       0.249       0.349\n",
      "buick              0.2721      0.031      8.860      0.000       0.211       0.333\n",
      "jaguar             0.2317      0.039      5.905      0.000       0.154       0.309\n",
      "mitsubishi        -0.0403      0.020     -2.048      0.043      -0.079      -0.001\n",
      "porsche            0.1654      0.046      3.572      0.001       0.074       0.257\n",
      "volvo              0.0938      0.025      3.788      0.000       0.045       0.143\n",
      "hardtop           -0.1061      0.048     -2.195      0.030      -0.202      -0.010\n",
      "hatchback         -0.1035      0.030     -3.432      0.001      -0.163      -0.044\n",
      "sedan             -0.0908      0.030     -3.061      0.003      -0.150      -0.032\n",
      "wagon             -0.1287      0.031     -4.096      0.000      -0.191      -0.067\n",
      "rotor              0.0898      0.031      2.866      0.005       0.028       0.152\n",
      "==============================================================================\n",
      "Omnibus:                       37.193   Durbin-Watson:                   2.081\n",
      "Prob(Omnibus):                  0.000   Jarque-Bera (JB):              159.138\n",
      "Skew:                           0.821   Prob(JB):                     2.78e-35\n",
      "Kurtosis:                       7.900   Cond. No.                         42.5\n",
      "==============================================================================\n",
      "\n",
      "Warnings:\n",
      "[1] Standard Errors assume that the covariance matrix of the errors is correctly specified.\n"
     ]
    }
   ],
   "source": [
    "# Eliminating variable peakrpm that has the next highest p-value\n",
    "X_train1=X_train1.drop('peakrpm',axis=1)\n",
    "\n",
    "# Rebuiding the model\n",
    "X_train1 = sm.add_constant(X_train1)\n",
    "lm4 = sm.OLS(y_train,X_train1).fit()\n",
    "print(lm4.summary())"
   ]
  },
  {
   "cell_type": "markdown",
   "metadata": {},
   "source": [
    "***From the above summary, it is evident that all variables have a p-value < 0.05 and hence they are not eliminated. However, it is necessary to check for multicollinearity and hence VIF is calculted for the final list of variables*** "
   ]
  },
  {
   "cell_type": "markdown",
   "metadata": {},
   "source": [
    "#### Eliminating variables with VIF greater than 5"
   ]
  },
  {
   "cell_type": "code",
   "execution_count": 44,
   "metadata": {},
   "outputs": [
    {
     "data": {
      "text/html": [
       "<div>\n",
       "<style scoped>\n",
       "    .dataframe tbody tr th:only-of-type {\n",
       "        vertical-align: middle;\n",
       "    }\n",
       "\n",
       "    .dataframe tbody tr th {\n",
       "        vertical-align: top;\n",
       "    }\n",
       "\n",
       "    .dataframe thead th {\n",
       "        text-align: right;\n",
       "    }\n",
       "</style>\n",
       "<table border=\"1\" class=\"dataframe\">\n",
       "  <thead>\n",
       "    <tr style=\"text-align: right;\">\n",
       "      <th></th>\n",
       "      <th>index</th>\n",
       "      <th>Features</th>\n",
       "      <th>VIF</th>\n",
       "    </tr>\n",
       "  </thead>\n",
       "  <tbody>\n",
       "    <tr>\n",
       "      <th>0</th>\n",
       "      <td>0</td>\n",
       "      <td>const</td>\n",
       "      <td>353.02</td>\n",
       "    </tr>\n",
       "    <tr>\n",
       "      <th>1</th>\n",
       "      <td>14</td>\n",
       "      <td>sedan</td>\n",
       "      <td>10.44</td>\n",
       "    </tr>\n",
       "    <tr>\n",
       "      <th>2</th>\n",
       "      <td>13</td>\n",
       "      <td>hatchback</td>\n",
       "      <td>9.74</td>\n",
       "    </tr>\n",
       "    <tr>\n",
       "      <th>3</th>\n",
       "      <td>2</td>\n",
       "      <td>curbweight</td>\n",
       "      <td>5.44</td>\n",
       "    </tr>\n",
       "    <tr>\n",
       "      <th>4</th>\n",
       "      <td>15</td>\n",
       "      <td>wagon</td>\n",
       "      <td>5.40</td>\n",
       "    </tr>\n",
       "    <tr>\n",
       "      <th>5</th>\n",
       "      <td>3</td>\n",
       "      <td>horsepower</td>\n",
       "      <td>5.03</td>\n",
       "    </tr>\n",
       "    <tr>\n",
       "      <th>6</th>\n",
       "      <td>4</td>\n",
       "      <td>highwaympg</td>\n",
       "      <td>4.26</td>\n",
       "    </tr>\n",
       "    <tr>\n",
       "      <th>7</th>\n",
       "      <td>12</td>\n",
       "      <td>hardtop</td>\n",
       "      <td>2.28</td>\n",
       "    </tr>\n",
       "    <tr>\n",
       "      <th>8</th>\n",
       "      <td>10</td>\n",
       "      <td>porsche</td>\n",
       "      <td>2.09</td>\n",
       "    </tr>\n",
       "    <tr>\n",
       "      <th>9</th>\n",
       "      <td>1</td>\n",
       "      <td>enginelocation</td>\n",
       "      <td>2.04</td>\n",
       "    </tr>\n",
       "    <tr>\n",
       "      <th>10</th>\n",
       "      <td>7</td>\n",
       "      <td>buick</td>\n",
       "      <td>1.51</td>\n",
       "    </tr>\n",
       "    <tr>\n",
       "      <th>11</th>\n",
       "      <td>8</td>\n",
       "      <td>jaguar</td>\n",
       "      <td>1.50</td>\n",
       "    </tr>\n",
       "    <tr>\n",
       "      <th>12</th>\n",
       "      <td>16</td>\n",
       "      <td>rotor</td>\n",
       "      <td>1.27</td>\n",
       "    </tr>\n",
       "    <tr>\n",
       "      <th>13</th>\n",
       "      <td>6</td>\n",
       "      <td>bmw</td>\n",
       "      <td>1.22</td>\n",
       "    </tr>\n",
       "    <tr>\n",
       "      <th>14</th>\n",
       "      <td>5</td>\n",
       "      <td>audi</td>\n",
       "      <td>1.18</td>\n",
       "    </tr>\n",
       "    <tr>\n",
       "      <th>15</th>\n",
       "      <td>11</td>\n",
       "      <td>volvo</td>\n",
       "      <td>1.17</td>\n",
       "    </tr>\n",
       "    <tr>\n",
       "      <th>16</th>\n",
       "      <td>9</td>\n",
       "      <td>mitsubishi</td>\n",
       "      <td>1.08</td>\n",
       "    </tr>\n",
       "  </tbody>\n",
       "</table>\n",
       "</div>"
      ],
      "text/plain": [
       "    index        Features     VIF\n",
       "0       0           const  353.02\n",
       "1      14           sedan   10.44\n",
       "2      13       hatchback    9.74\n",
       "3       2      curbweight    5.44\n",
       "4      15           wagon    5.40\n",
       "5       3      horsepower    5.03\n",
       "6       4      highwaympg    4.26\n",
       "7      12         hardtop    2.28\n",
       "8      10         porsche    2.09\n",
       "9       1  enginelocation    2.04\n",
       "10      7           buick    1.51\n",
       "11      8          jaguar    1.50\n",
       "12     16           rotor    1.27\n",
       "13      6             bmw    1.22\n",
       "14      5            audi    1.18\n",
       "15     11           volvo    1.17\n",
       "16      9      mitsubishi    1.08"
      ]
     },
     "execution_count": 44,
     "metadata": {},
     "output_type": "execute_result"
    }
   ],
   "source": [
    "#Checking VIF\n",
    "# Create a dataframe that will contain the names of all the feature variables and their respective VIFs\n",
    "vif = pd.DataFrame()\n",
    "vif['Features'] = X_train1.columns\n",
    "vif['VIF'] = [variance_inflation_factor(X_train1.values, i) for i in range(X_train1.shape[1])]\n",
    "vif['VIF'] = round(vif['VIF'], 2)\n",
    "vif = vif.sort_values(by = \"VIF\", ascending = False)\n",
    "vif.reset_index()"
   ]
  },
  {
   "cell_type": "code",
   "execution_count": 45,
   "metadata": {},
   "outputs": [
    {
     "name": "stdout",
     "output_type": "stream",
     "text": [
      "                            OLS Regression Results                            \n",
      "==============================================================================\n",
      "Dep. Variable:                  price   R-squared:                       0.938\n",
      "Model:                            OLS   Adj. R-squared:                  0.931\n",
      "Method:                 Least Squares   F-statistic:                     128.8\n",
      "Date:                Mon, 07 Oct 2019   Prob (F-statistic):           3.96e-69\n",
      "Time:                        23:33:11   Log-Likelihood:                 216.15\n",
      "No. Observations:                 143   AIC:                            -400.3\n",
      "Df Residuals:                     127   BIC:                            -352.9\n",
      "Df Model:                          15                                         \n",
      "Covariance Type:            nonrobust                                         \n",
      "==================================================================================\n",
      "                     coef    std err          t      P>|t|      [0.025      0.975]\n",
      "----------------------------------------------------------------------------------\n",
      "const              0.1560      0.086      1.818      0.071      -0.014       0.326\n",
      "enginelocation    -0.2850      0.081     -3.512      0.001      -0.446      -0.124\n",
      "curbweight         0.4894      0.052      9.417      0.000       0.387       0.592\n",
      "horsepower         0.3555      0.064      5.520      0.000       0.228       0.483\n",
      "highwaympg         0.1102      0.051      2.156      0.033       0.009       0.211\n",
      "audi               0.1052      0.028      3.783      0.000       0.050       0.160\n",
      "bmw                0.2910      0.026     11.239      0.000       0.240       0.342\n",
      "buick              0.2870      0.031      9.168      0.000       0.225       0.349\n",
      "jaguar             0.2254      0.040      5.571      0.000       0.145       0.305\n",
      "mitsubishi        -0.0441      0.020     -2.179      0.031      -0.084      -0.004\n",
      "porsche            0.1639      0.048      3.430      0.001       0.069       0.258\n",
      "volvo              0.0878      0.025      3.447      0.001       0.037       0.138\n",
      "hardtop           -0.0212      0.041     -0.519      0.605      -0.102       0.060\n",
      "hatchback         -0.0185      0.012     -1.524      0.130      -0.042       0.006\n",
      "wagon             -0.0446      0.016     -2.837      0.005      -0.076      -0.013\n",
      "rotor              0.0815      0.032      2.531      0.013       0.018       0.145\n",
      "==============================================================================\n",
      "Omnibus:                       33.436   Durbin-Watson:                   2.039\n",
      "Prob(Omnibus):                  0.000   Jarque-Bera (JB):              118.355\n",
      "Skew:                           0.788   Prob(JB):                     1.99e-26\n",
      "Kurtosis:                       7.169   Cond. No.                         39.8\n",
      "==============================================================================\n",
      "\n",
      "Warnings:\n",
      "[1] Standard Errors assume that the covariance matrix of the errors is correctly specified.\n"
     ]
    }
   ],
   "source": [
    "# Eliminating variable sedan as it has a high VIF\n",
    "X_train1=X_train1.drop('sedan',axis=1)\n",
    "\n",
    "# Rebuiding the model\n",
    "X_train1 = sm.add_constant(X_train1)\n",
    "lm5 = sm.OLS(y_train,X_train1).fit()\n",
    "print(lm5.summary())"
   ]
  },
  {
   "cell_type": "code",
   "execution_count": 46,
   "metadata": {},
   "outputs": [
    {
     "data": {
      "text/html": [
       "<div>\n",
       "<style scoped>\n",
       "    .dataframe tbody tr th:only-of-type {\n",
       "        vertical-align: middle;\n",
       "    }\n",
       "\n",
       "    .dataframe tbody tr th {\n",
       "        vertical-align: top;\n",
       "    }\n",
       "\n",
       "    .dataframe thead th {\n",
       "        text-align: right;\n",
       "    }\n",
       "</style>\n",
       "<table border=\"1\" class=\"dataframe\">\n",
       "  <thead>\n",
       "    <tr style=\"text-align: right;\">\n",
       "      <th></th>\n",
       "      <th>index</th>\n",
       "      <th>Features</th>\n",
       "      <th>VIF</th>\n",
       "    </tr>\n",
       "  </thead>\n",
       "  <tbody>\n",
       "    <tr>\n",
       "      <th>0</th>\n",
       "      <td>0</td>\n",
       "      <td>const</td>\n",
       "      <td>328.19</td>\n",
       "    </tr>\n",
       "    <tr>\n",
       "      <th>1</th>\n",
       "      <td>2</td>\n",
       "      <td>curbweight</td>\n",
       "      <td>5.34</td>\n",
       "    </tr>\n",
       "    <tr>\n",
       "      <th>2</th>\n",
       "      <td>3</td>\n",
       "      <td>horsepower</td>\n",
       "      <td>5.03</td>\n",
       "    </tr>\n",
       "    <tr>\n",
       "      <th>3</th>\n",
       "      <td>4</td>\n",
       "      <td>highwaympg</td>\n",
       "      <td>4.11</td>\n",
       "    </tr>\n",
       "    <tr>\n",
       "      <th>4</th>\n",
       "      <td>10</td>\n",
       "      <td>porsche</td>\n",
       "      <td>2.09</td>\n",
       "    </tr>\n",
       "    <tr>\n",
       "      <th>5</th>\n",
       "      <td>1</td>\n",
       "      <td>enginelocation</td>\n",
       "      <td>2.04</td>\n",
       "    </tr>\n",
       "    <tr>\n",
       "      <th>6</th>\n",
       "      <td>12</td>\n",
       "      <td>hardtop</td>\n",
       "      <td>1.53</td>\n",
       "    </tr>\n",
       "    <tr>\n",
       "      <th>7</th>\n",
       "      <td>8</td>\n",
       "      <td>jaguar</td>\n",
       "      <td>1.50</td>\n",
       "    </tr>\n",
       "    <tr>\n",
       "      <th>8</th>\n",
       "      <td>7</td>\n",
       "      <td>buick</td>\n",
       "      <td>1.47</td>\n",
       "    </tr>\n",
       "    <tr>\n",
       "      <th>9</th>\n",
       "      <td>13</td>\n",
       "      <td>hatchback</td>\n",
       "      <td>1.47</td>\n",
       "    </tr>\n",
       "    <tr>\n",
       "      <th>10</th>\n",
       "      <td>14</td>\n",
       "      <td>wagon</td>\n",
       "      <td>1.27</td>\n",
       "    </tr>\n",
       "    <tr>\n",
       "      <th>11</th>\n",
       "      <td>15</td>\n",
       "      <td>rotor</td>\n",
       "      <td>1.26</td>\n",
       "    </tr>\n",
       "    <tr>\n",
       "      <th>12</th>\n",
       "      <td>6</td>\n",
       "      <td>bmw</td>\n",
       "      <td>1.20</td>\n",
       "    </tr>\n",
       "    <tr>\n",
       "      <th>13</th>\n",
       "      <td>5</td>\n",
       "      <td>audi</td>\n",
       "      <td>1.16</td>\n",
       "    </tr>\n",
       "    <tr>\n",
       "      <th>14</th>\n",
       "      <td>11</td>\n",
       "      <td>volvo</td>\n",
       "      <td>1.16</td>\n",
       "    </tr>\n",
       "    <tr>\n",
       "      <th>15</th>\n",
       "      <td>9</td>\n",
       "      <td>mitsubishi</td>\n",
       "      <td>1.08</td>\n",
       "    </tr>\n",
       "  </tbody>\n",
       "</table>\n",
       "</div>"
      ],
      "text/plain": [
       "    index        Features     VIF\n",
       "0       0           const  328.19\n",
       "1       2      curbweight    5.34\n",
       "2       3      horsepower    5.03\n",
       "3       4      highwaympg    4.11\n",
       "4      10         porsche    2.09\n",
       "5       1  enginelocation    2.04\n",
       "6      12         hardtop    1.53\n",
       "7       8          jaguar    1.50\n",
       "8       7           buick    1.47\n",
       "9      13       hatchback    1.47\n",
       "10     14           wagon    1.27\n",
       "11     15           rotor    1.26\n",
       "12      6             bmw    1.20\n",
       "13      5            audi    1.16\n",
       "14     11           volvo    1.16\n",
       "15      9      mitsubishi    1.08"
      ]
     },
     "execution_count": 46,
     "metadata": {},
     "output_type": "execute_result"
    }
   ],
   "source": [
    "#Checking VIF again\n",
    "vif = pd.DataFrame()\n",
    "vif['Features'] = X_train1.columns\n",
    "vif['VIF'] = [variance_inflation_factor(X_train1.values, i) for i in range(X_train1.shape[1])]\n",
    "vif['VIF'] = round(vif['VIF'], 2)\n",
    "vif = vif.sort_values(by = \"VIF\", ascending = False)\n",
    "vif.reset_index()"
   ]
  },
  {
   "cell_type": "code",
   "execution_count": 47,
   "metadata": {},
   "outputs": [
    {
     "name": "stdout",
     "output_type": "stream",
     "text": [
      "                            OLS Regression Results                            \n",
      "==============================================================================\n",
      "Dep. Variable:                  price   R-squared:                       0.938\n",
      "Model:                            OLS   Adj. R-squared:                  0.931\n",
      "Method:                 Least Squares   F-statistic:                     138.8\n",
      "Date:                Mon, 07 Oct 2019   Prob (F-statistic):           3.76e-70\n",
      "Time:                        23:33:11   Log-Likelihood:                 216.00\n",
      "No. Observations:                 143   AIC:                            -402.0\n",
      "Df Residuals:                     128   BIC:                            -357.6\n",
      "Df Model:                          14                                         \n",
      "Covariance Type:            nonrobust                                         \n",
      "==================================================================================\n",
      "                     coef    std err          t      P>|t|      [0.025      0.975]\n",
      "----------------------------------------------------------------------------------\n",
      "const              0.1349      0.075      1.790      0.076      -0.014       0.284\n",
      "enginelocation    -0.2646      0.071     -3.737      0.000      -0.405      -0.124\n",
      "curbweight         0.4902      0.052      9.463      0.000       0.388       0.593\n",
      "horsepower         0.3541      0.064      5.519      0.000       0.227       0.481\n",
      "highwaympg         0.1099      0.051      2.156      0.033       0.009       0.211\n",
      "audi               0.1058      0.028      3.820      0.000       0.051       0.161\n",
      "bmw                0.2918      0.026     11.326      0.000       0.241       0.343\n",
      "buick              0.2875      0.031      9.212      0.000       0.226       0.349\n",
      "jaguar             0.2263      0.040      5.613      0.000       0.146       0.306\n",
      "mitsubishi        -0.0438      0.020     -2.170      0.032      -0.084      -0.004\n",
      "porsche            0.1644      0.048      3.450      0.001       0.070       0.259\n",
      "volvo              0.0884      0.025      3.485      0.001       0.038       0.139\n",
      "hatchback         -0.0177      0.012     -1.474      0.143      -0.041       0.006\n",
      "wagon             -0.0439      0.016     -2.813      0.006      -0.075      -0.013\n",
      "rotor              0.0816      0.032      2.538      0.012       0.018       0.145\n",
      "==============================================================================\n",
      "Omnibus:                       33.355   Durbin-Watson:                   2.028\n",
      "Prob(Omnibus):                  0.000   Jarque-Bera (JB):              118.053\n",
      "Skew:                           0.785   Prob(JB):                     2.32e-26\n",
      "Kurtosis:                       7.165   Cond. No.                         34.6\n",
      "==============================================================================\n",
      "\n",
      "Warnings:\n",
      "[1] Standard Errors assume that the covariance matrix of the errors is correctly specified.\n"
     ]
    }
   ],
   "source": [
    "# Eliminating variable hardtop as it has a high VIF\n",
    "X_train1=X_train1.drop('hardtop',axis=1)\n",
    "\n",
    "# Rebuiding the model\n",
    "X_train1 = sm.add_constant(X_train1)\n",
    "lm6 = sm.OLS(y_train,X_train1).fit()\n",
    "print(lm6.summary())"
   ]
  },
  {
   "cell_type": "code",
   "execution_count": 48,
   "metadata": {},
   "outputs": [
    {
     "name": "stdout",
     "output_type": "stream",
     "text": [
      "                            OLS Regression Results                            \n",
      "==============================================================================\n",
      "Dep. Variable:                  price   R-squared:                       0.937\n",
      "Model:                            OLS   Adj. R-squared:                  0.931\n",
      "Method:                 Least Squares   F-statistic:                     148.0\n",
      "Date:                Mon, 07 Oct 2019   Prob (F-statistic):           8.83e-71\n",
      "Time:                        23:33:11   Log-Likelihood:                 214.79\n",
      "No. Observations:                 143   AIC:                            -401.6\n",
      "Df Residuals:                     129   BIC:                            -360.1\n",
      "Df Model:                          13                                         \n",
      "Covariance Type:            nonrobust                                         \n",
      "==================================================================================\n",
      "                     coef    std err          t      P>|t|      [0.025      0.975]\n",
      "----------------------------------------------------------------------------------\n",
      "const              0.1461      0.075      1.939      0.055      -0.003       0.295\n",
      "enginelocation    -0.2833      0.070     -4.048      0.000      -0.422      -0.145\n",
      "curbweight         0.5063      0.051      9.954      0.000       0.406       0.607\n",
      "horsepower         0.3336      0.063      5.303      0.000       0.209       0.458\n",
      "highwaympg         0.1065      0.051      2.081      0.039       0.005       0.208\n",
      "audi               0.1084      0.028      3.906      0.000       0.054       0.163\n",
      "bmw                0.2985      0.025     11.716      0.000       0.248       0.349\n",
      "buick              0.2882      0.031      9.196      0.000       0.226       0.350\n",
      "jaguar             0.2314      0.040      5.735      0.000       0.152       0.311\n",
      "mitsubishi        -0.0475      0.020     -2.362      0.020      -0.087      -0.008\n",
      "porsche            0.1596      0.048      3.342      0.001       0.065       0.254\n",
      "volvo              0.0927      0.025      3.659      0.000       0.043       0.143\n",
      "wagon             -0.0393      0.015     -2.557      0.012      -0.070      -0.009\n",
      "rotor              0.0714      0.032      2.266      0.025       0.009       0.134\n",
      "==============================================================================\n",
      "Omnibus:                       34.509   Durbin-Watson:                   2.056\n",
      "Prob(Omnibus):                  0.000   Jarque-Bera (JB):              116.865\n",
      "Skew:                           0.836   Prob(JB):                     4.20e-26\n",
      "Kurtosis:                       7.101   Cond. No.                         33.4\n",
      "==============================================================================\n",
      "\n",
      "Warnings:\n",
      "[1] Standard Errors assume that the covariance matrix of the errors is correctly specified.\n"
     ]
    }
   ],
   "source": [
    "#Now, we observe that the variable hatchback has a high P-value and hence it has to be removed\n",
    "\n",
    "X_train1=X_train1.drop('hatchback',axis=1)\n",
    "\n",
    "# Rebuiding the model\n",
    "X_train1 = sm.add_constant(X_train1)\n",
    "lm7 = sm.OLS(y_train,X_train1).fit()\n",
    "print(lm7.summary())"
   ]
  },
  {
   "cell_type": "code",
   "execution_count": 49,
   "metadata": {},
   "outputs": [
    {
     "data": {
      "text/html": [
       "<div>\n",
       "<style scoped>\n",
       "    .dataframe tbody tr th:only-of-type {\n",
       "        vertical-align: middle;\n",
       "    }\n",
       "\n",
       "    .dataframe tbody tr th {\n",
       "        vertical-align: top;\n",
       "    }\n",
       "\n",
       "    .dataframe thead th {\n",
       "        text-align: right;\n",
       "    }\n",
       "</style>\n",
       "<table border=\"1\" class=\"dataframe\">\n",
       "  <thead>\n",
       "    <tr style=\"text-align: right;\">\n",
       "      <th></th>\n",
       "      <th>index</th>\n",
       "      <th>Features</th>\n",
       "      <th>VIF</th>\n",
       "    </tr>\n",
       "  </thead>\n",
       "  <tbody>\n",
       "    <tr>\n",
       "      <th>0</th>\n",
       "      <td>0</td>\n",
       "      <td>const</td>\n",
       "      <td>252.10</td>\n",
       "    </tr>\n",
       "    <tr>\n",
       "      <th>1</th>\n",
       "      <td>2</td>\n",
       "      <td>curbweight</td>\n",
       "      <td>5.10</td>\n",
       "    </tr>\n",
       "    <tr>\n",
       "      <th>2</th>\n",
       "      <td>3</td>\n",
       "      <td>horsepower</td>\n",
       "      <td>4.78</td>\n",
       "    </tr>\n",
       "    <tr>\n",
       "      <th>3</th>\n",
       "      <td>4</td>\n",
       "      <td>highwaympg</td>\n",
       "      <td>4.10</td>\n",
       "    </tr>\n",
       "    <tr>\n",
       "      <th>4</th>\n",
       "      <td>10</td>\n",
       "      <td>porsche</td>\n",
       "      <td>2.08</td>\n",
       "    </tr>\n",
       "    <tr>\n",
       "      <th>5</th>\n",
       "      <td>1</td>\n",
       "      <td>enginelocation</td>\n",
       "      <td>1.51</td>\n",
       "    </tr>\n",
       "    <tr>\n",
       "      <th>6</th>\n",
       "      <td>8</td>\n",
       "      <td>jaguar</td>\n",
       "      <td>1.49</td>\n",
       "    </tr>\n",
       "    <tr>\n",
       "      <th>7</th>\n",
       "      <td>7</td>\n",
       "      <td>buick</td>\n",
       "      <td>1.47</td>\n",
       "    </tr>\n",
       "    <tr>\n",
       "      <th>8</th>\n",
       "      <td>12</td>\n",
       "      <td>wagon</td>\n",
       "      <td>1.21</td>\n",
       "    </tr>\n",
       "    <tr>\n",
       "      <th>9</th>\n",
       "      <td>13</td>\n",
       "      <td>rotor</td>\n",
       "      <td>1.20</td>\n",
       "    </tr>\n",
       "    <tr>\n",
       "      <th>10</th>\n",
       "      <td>5</td>\n",
       "      <td>audi</td>\n",
       "      <td>1.16</td>\n",
       "    </tr>\n",
       "    <tr>\n",
       "      <th>11</th>\n",
       "      <td>6</td>\n",
       "      <td>bmw</td>\n",
       "      <td>1.16</td>\n",
       "    </tr>\n",
       "    <tr>\n",
       "      <th>12</th>\n",
       "      <td>11</td>\n",
       "      <td>volvo</td>\n",
       "      <td>1.15</td>\n",
       "    </tr>\n",
       "    <tr>\n",
       "      <th>13</th>\n",
       "      <td>9</td>\n",
       "      <td>mitsubishi</td>\n",
       "      <td>1.06</td>\n",
       "    </tr>\n",
       "  </tbody>\n",
       "</table>\n",
       "</div>"
      ],
      "text/plain": [
       "    index        Features     VIF\n",
       "0       0           const  252.10\n",
       "1       2      curbweight    5.10\n",
       "2       3      horsepower    4.78\n",
       "3       4      highwaympg    4.10\n",
       "4      10         porsche    2.08\n",
       "5       1  enginelocation    1.51\n",
       "6       8          jaguar    1.49\n",
       "7       7           buick    1.47\n",
       "8      12           wagon    1.21\n",
       "9      13           rotor    1.20\n",
       "10      5            audi    1.16\n",
       "11      6             bmw    1.16\n",
       "12     11           volvo    1.15\n",
       "13      9      mitsubishi    1.06"
      ]
     },
     "execution_count": 49,
     "metadata": {},
     "output_type": "execute_result"
    }
   ],
   "source": [
    "#Checking VIF again\n",
    "vif = pd.DataFrame()\n",
    "vif['Features'] = X_train1.columns\n",
    "vif['VIF'] = [variance_inflation_factor(X_train1.values, i) for i in range(X_train1.shape[1])]\n",
    "vif['VIF'] = round(vif['VIF'], 2)\n",
    "vif = vif.sort_values(by = \"VIF\", ascending = False)\n",
    "vif.reset_index()"
   ]
  },
  {
   "cell_type": "markdown",
   "metadata": {},
   "source": [
    "***From the above statistical results, it is clear that all the variables are significant. Since VIF of curbweight is close to 5, it is not eliminated and the above model is finalized for prediction ***"
   ]
  },
  {
   "cell_type": "markdown",
   "metadata": {},
   "source": [
    "**The model equation is:**\n",
    "\n",
    "price=0.1461*const-0.2833 * enginelocation + 0.5063 * curbweight +0.3336 * horsepower +0.1065 * highwaympg +0.1084 * audi+0.2985 * bmw + 0.2882*buick+0.2314*jaguar -0.0475*mitsubishi + 0.1596 * porsche + 0.0927*volvo -0.0393 * wagon + 0.0714* rotor \n",
    "\n",
    "Thus the price of car depends on certain properties of cars like engine location, curbweight, horse power, highwaympg, rotor and wagon and also the brand names audi, bmw, buick, jaguar, mitsubjishi, porsche and volvo.\n"
   ]
  },
  {
   "cell_type": "markdown",
   "metadata": {},
   "source": [
    "## Residual Analysis of the train data"
   ]
  },
  {
   "cell_type": "markdown",
   "metadata": {},
   "source": [
    "Linear Regression is performed based on the assumption that the residuals are normally distributed around mean zero with a constant variance. It is verified in the below steps"
   ]
  },
  {
   "cell_type": "code",
   "execution_count": 50,
   "metadata": {},
   "outputs": [],
   "source": [
    "y_train_price = lm7.predict(X_train1)"
   ]
  },
  {
   "cell_type": "code",
   "execution_count": 51,
   "metadata": {},
   "outputs": [
    {
     "data": {
      "text/plain": [
       "Text(0.5, 0, 'Errors')"
      ]
     },
     "execution_count": 51,
     "metadata": {},
     "output_type": "execute_result"
    },
    {
     "data": {
      "image/png": "[encoded data removed]",
      "text/plain": [
       "<Figure size 432x288 with 1 Axes>"
      ]
     },
     "metadata": {
      "needs_background": "light"
     },
     "output_type": "display_data"
    }
   ],
   "source": [
    "# Plot the histogram of the error terms\n",
    "fig = plt.figure()\n",
    "sns.distplot((y_train - y_train_price), bins = 20)\n",
    "fig.suptitle('Error Terms', fontsize = 20)                  # Plot heading \n",
    "plt.xlabel('Errors', fontsize = 18)    "
   ]
  },
  {
   "cell_type": "markdown",
   "metadata": {},
   "source": [
    " From the above graph, it is concluded that the assumptions hold and we can use the model for prediction"
   ]
  },
  {
   "cell_type": "markdown",
   "metadata": {},
   "source": [
    "## Prediction"
   ]
  },
  {
   "cell_type": "code",
   "execution_count": 52,
   "metadata": {},
   "outputs": [],
   "source": [
    "# Scaling the numerical variables in the test set\n",
    "df_test[num_vars]=scaler.transform(df_test[num_vars])"
   ]
  },
  {
   "cell_type": "code",
   "execution_count": 53,
   "metadata": {},
   "outputs": [],
   "source": [
    "# Creating X and y variables for the test set\n",
    "y_test=df_test.pop('price')\n",
    "X_test=df_test"
   ]
  },
  {
   "cell_type": "code",
   "execution_count": 54,
   "metadata": {},
   "outputs": [],
   "source": [
    "# Selecting only those columns that were used for model building\n",
    "X_test=X_test[X_train1.columns.tolist()[1:]]"
   ]
  },
  {
   "cell_type": "code",
   "execution_count": 55,
   "metadata": {},
   "outputs": [],
   "source": [
    "# Making predictions using the final model\n",
    "X_test1=sm.add_constant(X_test)  # Adding constant to the test variable\n",
    "y_pred = lm7.predict(X_test1)  # prediction"
   ]
  },
  {
   "cell_type": "markdown",
   "metadata": {},
   "source": [
    "## Model Evaluation"
   ]
  },
  {
   "cell_type": "code",
   "execution_count": 56,
   "metadata": {},
   "outputs": [
    {
     "data": {
      "text/plain": [
       "Text(0, 0.5, 'y_pred')"
      ]
     },
     "execution_count": 56,
     "metadata": {},
     "output_type": "execute_result"
    },
    {
     "data": {
      "image/png": "[encoded data removed]",
      "text/plain": [
       "<Figure size 432x288 with 1 Axes>"
      ]
     },
     "metadata": {
      "needs_background": "light"
     },
     "output_type": "display_data"
    }
   ],
   "source": [
    "# Plotting y_test and y_pred to understand the spread\n",
    "plt.scatter(y_test, y_pred)                                  # Scatterplot of actual vs predicted\n",
    "plt.title('y_test vs y_pred', fontsize = 16)                # Plot title\n",
    "plt.xlabel('y_test', fontsize = 16)                          # X-label\n",
    "plt.ylabel('y_pred', fontsize = 16)                           # ylabel"
   ]
  },
  {
   "cell_type": "code",
   "execution_count": 57,
   "metadata": {},
   "outputs": [
    {
     "data": {
      "text/plain": [
       "0.9115530222191021"
      ]
     },
     "execution_count": 57,
     "metadata": {},
     "output_type": "execute_result"
    }
   ],
   "source": [
    "# Obtaining the r2 value to maesure the goodness of fit\n",
    "from sklearn.metrics import r2_score\n",
    "r2_score(y_test, y_pred)"
   ]
  }
 ],
 "metadata": {
  "kernelspec": {
   "display_name": "Python 3",
   "language": "python",
   "name": "python3"
  },
  "language_info": {
   "codemirror_mode": {
    "name": "ipython",
    "version": 3
   },
   "file_extension": ".py",
   "mimetype": "text/x-python",
   "name": "python",
   "nbconvert_exporter": "python",
   "pygments_lexer": "ipython3",
   "version": "3.7.1"
  }
 },
 "nbformat": 4,
 "nbformat_minor": 2
}
